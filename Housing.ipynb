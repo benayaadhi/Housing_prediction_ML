{
 "cells": [
  {
   "cell_type": "markdown",
   "metadata": {},
   "source": [
    "# Predict Home Price"
   ]
  },
  {
   "cell_type": "code",
   "execution_count": 1,
   "metadata": {},
   "outputs": [],
   "source": [
    "import pandas as pd\n",
    "import numpy as np\n",
    "import seaborn as sns\n",
    "import matplotlib.pyplot as plt\n",
    "import folium\n",
    "import random\n",
    "\n",
    "%matplotlib inline"
   ]
  },
  {
   "cell_type": "code",
   "execution_count": 2,
   "metadata": {},
   "outputs": [],
   "source": [
    "df = pd.read_csv('kc_house_data.csv')"
   ]
  },
  {
   "cell_type": "code",
   "execution_count": 3,
   "metadata": {},
   "outputs": [
    {
     "data": {
      "text/html": [
       "<div>\n",
       "<style scoped>\n",
       "    .dataframe tbody tr th:only-of-type {\n",
       "        vertical-align: middle;\n",
       "    }\n",
       "\n",
       "    .dataframe tbody tr th {\n",
       "        vertical-align: top;\n",
       "    }\n",
       "\n",
       "    .dataframe thead th {\n",
       "        text-align: right;\n",
       "    }\n",
       "</style>\n",
       "<table border=\"1\" class=\"dataframe\">\n",
       "  <thead>\n",
       "    <tr style=\"text-align: right;\">\n",
       "      <th></th>\n",
       "      <th>id</th>\n",
       "      <th>date</th>\n",
       "      <th>price</th>\n",
       "      <th>bedrooms</th>\n",
       "      <th>bathrooms</th>\n",
       "      <th>sqft_living</th>\n",
       "      <th>sqft_lot</th>\n",
       "      <th>floors</th>\n",
       "      <th>waterfront</th>\n",
       "      <th>view</th>\n",
       "      <th>...</th>\n",
       "      <th>grade</th>\n",
       "      <th>sqft_above</th>\n",
       "      <th>sqft_basement</th>\n",
       "      <th>yr_built</th>\n",
       "      <th>yr_renovated</th>\n",
       "      <th>zipcode</th>\n",
       "      <th>lat</th>\n",
       "      <th>long</th>\n",
       "      <th>sqft_living15</th>\n",
       "      <th>sqft_lot15</th>\n",
       "    </tr>\n",
       "  </thead>\n",
       "  <tbody>\n",
       "    <tr>\n",
       "      <th>0</th>\n",
       "      <td>7129300520</td>\n",
       "      <td>20141013T000000</td>\n",
       "      <td>221900.0</td>\n",
       "      <td>3</td>\n",
       "      <td>1.00</td>\n",
       "      <td>1180</td>\n",
       "      <td>5650</td>\n",
       "      <td>1.0</td>\n",
       "      <td>0</td>\n",
       "      <td>0</td>\n",
       "      <td>...</td>\n",
       "      <td>7</td>\n",
       "      <td>1180</td>\n",
       "      <td>0</td>\n",
       "      <td>1955</td>\n",
       "      <td>0</td>\n",
       "      <td>98178</td>\n",
       "      <td>47.5112</td>\n",
       "      <td>-122.257</td>\n",
       "      <td>1340</td>\n",
       "      <td>5650</td>\n",
       "    </tr>\n",
       "    <tr>\n",
       "      <th>1</th>\n",
       "      <td>6414100192</td>\n",
       "      <td>20141209T000000</td>\n",
       "      <td>538000.0</td>\n",
       "      <td>3</td>\n",
       "      <td>2.25</td>\n",
       "      <td>2570</td>\n",
       "      <td>7242</td>\n",
       "      <td>2.0</td>\n",
       "      <td>0</td>\n",
       "      <td>0</td>\n",
       "      <td>...</td>\n",
       "      <td>7</td>\n",
       "      <td>2170</td>\n",
       "      <td>400</td>\n",
       "      <td>1951</td>\n",
       "      <td>1991</td>\n",
       "      <td>98125</td>\n",
       "      <td>47.7210</td>\n",
       "      <td>-122.319</td>\n",
       "      <td>1690</td>\n",
       "      <td>7639</td>\n",
       "    </tr>\n",
       "    <tr>\n",
       "      <th>2</th>\n",
       "      <td>5631500400</td>\n",
       "      <td>20150225T000000</td>\n",
       "      <td>180000.0</td>\n",
       "      <td>2</td>\n",
       "      <td>1.00</td>\n",
       "      <td>770</td>\n",
       "      <td>10000</td>\n",
       "      <td>1.0</td>\n",
       "      <td>0</td>\n",
       "      <td>0</td>\n",
       "      <td>...</td>\n",
       "      <td>6</td>\n",
       "      <td>770</td>\n",
       "      <td>0</td>\n",
       "      <td>1933</td>\n",
       "      <td>0</td>\n",
       "      <td>98028</td>\n",
       "      <td>47.7379</td>\n",
       "      <td>-122.233</td>\n",
       "      <td>2720</td>\n",
       "      <td>8062</td>\n",
       "    </tr>\n",
       "    <tr>\n",
       "      <th>3</th>\n",
       "      <td>2487200875</td>\n",
       "      <td>20141209T000000</td>\n",
       "      <td>604000.0</td>\n",
       "      <td>4</td>\n",
       "      <td>3.00</td>\n",
       "      <td>1960</td>\n",
       "      <td>5000</td>\n",
       "      <td>1.0</td>\n",
       "      <td>0</td>\n",
       "      <td>0</td>\n",
       "      <td>...</td>\n",
       "      <td>7</td>\n",
       "      <td>1050</td>\n",
       "      <td>910</td>\n",
       "      <td>1965</td>\n",
       "      <td>0</td>\n",
       "      <td>98136</td>\n",
       "      <td>47.5208</td>\n",
       "      <td>-122.393</td>\n",
       "      <td>1360</td>\n",
       "      <td>5000</td>\n",
       "    </tr>\n",
       "    <tr>\n",
       "      <th>4</th>\n",
       "      <td>1954400510</td>\n",
       "      <td>20150218T000000</td>\n",
       "      <td>510000.0</td>\n",
       "      <td>3</td>\n",
       "      <td>2.00</td>\n",
       "      <td>1680</td>\n",
       "      <td>8080</td>\n",
       "      <td>1.0</td>\n",
       "      <td>0</td>\n",
       "      <td>0</td>\n",
       "      <td>...</td>\n",
       "      <td>8</td>\n",
       "      <td>1680</td>\n",
       "      <td>0</td>\n",
       "      <td>1987</td>\n",
       "      <td>0</td>\n",
       "      <td>98074</td>\n",
       "      <td>47.6168</td>\n",
       "      <td>-122.045</td>\n",
       "      <td>1800</td>\n",
       "      <td>7503</td>\n",
       "    </tr>\n",
       "  </tbody>\n",
       "</table>\n",
       "<p>5 rows × 21 columns</p>\n",
       "</div>"
      ],
      "text/plain": [
       "           id             date     price  bedrooms  bathrooms  sqft_living  \\\n",
       "0  7129300520  20141013T000000  221900.0         3       1.00         1180   \n",
       "1  6414100192  20141209T000000  538000.0         3       2.25         2570   \n",
       "2  5631500400  20150225T000000  180000.0         2       1.00          770   \n",
       "3  2487200875  20141209T000000  604000.0         4       3.00         1960   \n",
       "4  1954400510  20150218T000000  510000.0         3       2.00         1680   \n",
       "\n",
       "   sqft_lot  floors  waterfront  view  ...  grade  sqft_above  sqft_basement  \\\n",
       "0      5650     1.0           0     0  ...      7        1180              0   \n",
       "1      7242     2.0           0     0  ...      7        2170            400   \n",
       "2     10000     1.0           0     0  ...      6         770              0   \n",
       "3      5000     1.0           0     0  ...      7        1050            910   \n",
       "4      8080     1.0           0     0  ...      8        1680              0   \n",
       "\n",
       "   yr_built  yr_renovated  zipcode      lat     long  sqft_living15  \\\n",
       "0      1955             0    98178  47.5112 -122.257           1340   \n",
       "1      1951          1991    98125  47.7210 -122.319           1690   \n",
       "2      1933             0    98028  47.7379 -122.233           2720   \n",
       "3      1965             0    98136  47.5208 -122.393           1360   \n",
       "4      1987             0    98074  47.6168 -122.045           1800   \n",
       "\n",
       "   sqft_lot15  \n",
       "0        5650  \n",
       "1        7639  \n",
       "2        8062  \n",
       "3        5000  \n",
       "4        7503  \n",
       "\n",
       "[5 rows x 21 columns]"
      ]
     },
     "execution_count": 3,
     "metadata": {},
     "output_type": "execute_result"
    }
   ],
   "source": [
    "df.head()"
   ]
  },
  {
   "cell_type": "code",
   "execution_count": 4,
   "metadata": {},
   "outputs": [
    {
     "data": {
      "text/plain": [
       "Index(['id', 'date', 'price', 'bedrooms', 'bathrooms', 'sqft_living',\n",
       "       'sqft_lot', 'floors', 'waterfront', 'view', 'condition', 'grade',\n",
       "       'sqft_above', 'sqft_basement', 'yr_built', 'yr_renovated', 'zipcode',\n",
       "       'lat', 'long', 'sqft_living15', 'sqft_lot15'],\n",
       "      dtype='object')"
      ]
     },
     "execution_count": 4,
     "metadata": {},
     "output_type": "execute_result"
    }
   ],
   "source": [
    "df.columns"
   ]
  },
  {
   "cell_type": "code",
   "execution_count": 5,
   "metadata": {},
   "outputs": [],
   "source": [
    "data_describe =[]\n",
    "\n",
    "for i in df.columns: \n",
    "    data_describe.append([ #add i, type data, how many NaN, percentage , how many unique, unique value \n",
    "        i,\n",
    "        df[i].dtypes,\n",
    "        df[i].isna().sum(),\n",
    "        round((((df[i].isna().sum())/(len(df)))*100),2),\n",
    "        df[i].nunique(),\n",
    "        df[i].unique() \n",
    "    ])"
   ]
  },
  {
   "cell_type": "code",
   "execution_count": 6,
   "metadata": {},
   "outputs": [
    {
     "data": {
      "text/html": [
       "<div>\n",
       "<style scoped>\n",
       "    .dataframe tbody tr th:only-of-type {\n",
       "        vertical-align: middle;\n",
       "    }\n",
       "\n",
       "    .dataframe tbody tr th {\n",
       "        vertical-align: top;\n",
       "    }\n",
       "\n",
       "    .dataframe thead th {\n",
       "        text-align: right;\n",
       "    }\n",
       "</style>\n",
       "<table border=\"1\" class=\"dataframe\">\n",
       "  <thead>\n",
       "    <tr style=\"text-align: right;\">\n",
       "      <th></th>\n",
       "      <th>Data</th>\n",
       "      <th>Data Types</th>\n",
       "      <th>Null</th>\n",
       "      <th>Null Percentage</th>\n",
       "      <th>Unique</th>\n",
       "      <th>Unique Sample</th>\n",
       "    </tr>\n",
       "  </thead>\n",
       "  <tbody>\n",
       "    <tr>\n",
       "      <th>0</th>\n",
       "      <td>id</td>\n",
       "      <td>int64</td>\n",
       "      <td>0</td>\n",
       "      <td>0.0</td>\n",
       "      <td>21436</td>\n",
       "      <td>[7129300520, 6414100192, 5631500400, 248720087...</td>\n",
       "    </tr>\n",
       "    <tr>\n",
       "      <th>1</th>\n",
       "      <td>date</td>\n",
       "      <td>object</td>\n",
       "      <td>0</td>\n",
       "      <td>0.0</td>\n",
       "      <td>372</td>\n",
       "      <td>[20141013T000000, 20141209T000000, 20150225T00...</td>\n",
       "    </tr>\n",
       "    <tr>\n",
       "      <th>2</th>\n",
       "      <td>price</td>\n",
       "      <td>float64</td>\n",
       "      <td>0</td>\n",
       "      <td>0.0</td>\n",
       "      <td>4028</td>\n",
       "      <td>[221900.0, 538000.0, 180000.0, 604000.0, 51000...</td>\n",
       "    </tr>\n",
       "    <tr>\n",
       "      <th>3</th>\n",
       "      <td>bedrooms</td>\n",
       "      <td>int64</td>\n",
       "      <td>0</td>\n",
       "      <td>0.0</td>\n",
       "      <td>13</td>\n",
       "      <td>[3, 2, 4, 5, 1, 6, 7, 0, 8, 9, 11, 10, 33]</td>\n",
       "    </tr>\n",
       "    <tr>\n",
       "      <th>4</th>\n",
       "      <td>bathrooms</td>\n",
       "      <td>float64</td>\n",
       "      <td>0</td>\n",
       "      <td>0.0</td>\n",
       "      <td>30</td>\n",
       "      <td>[1.0, 2.25, 3.0, 2.0, 4.5, 1.5, 2.5, 1.75, 2.7...</td>\n",
       "    </tr>\n",
       "    <tr>\n",
       "      <th>5</th>\n",
       "      <td>sqft_living</td>\n",
       "      <td>int64</td>\n",
       "      <td>0</td>\n",
       "      <td>0.0</td>\n",
       "      <td>1038</td>\n",
       "      <td>[1180, 2570, 770, 1960, 1680, 5420, 1715, 1060...</td>\n",
       "    </tr>\n",
       "    <tr>\n",
       "      <th>6</th>\n",
       "      <td>sqft_lot</td>\n",
       "      <td>int64</td>\n",
       "      <td>0</td>\n",
       "      <td>0.0</td>\n",
       "      <td>9782</td>\n",
       "      <td>[5650, 7242, 10000, 5000, 8080, 101930, 6819, ...</td>\n",
       "    </tr>\n",
       "    <tr>\n",
       "      <th>7</th>\n",
       "      <td>floors</td>\n",
       "      <td>float64</td>\n",
       "      <td>0</td>\n",
       "      <td>0.0</td>\n",
       "      <td>6</td>\n",
       "      <td>[1.0, 2.0, 1.5, 3.0, 2.5, 3.5]</td>\n",
       "    </tr>\n",
       "    <tr>\n",
       "      <th>8</th>\n",
       "      <td>waterfront</td>\n",
       "      <td>int64</td>\n",
       "      <td>0</td>\n",
       "      <td>0.0</td>\n",
       "      <td>2</td>\n",
       "      <td>[0, 1]</td>\n",
       "    </tr>\n",
       "    <tr>\n",
       "      <th>9</th>\n",
       "      <td>view</td>\n",
       "      <td>int64</td>\n",
       "      <td>0</td>\n",
       "      <td>0.0</td>\n",
       "      <td>5</td>\n",
       "      <td>[0, 3, 4, 2, 1]</td>\n",
       "    </tr>\n",
       "    <tr>\n",
       "      <th>10</th>\n",
       "      <td>condition</td>\n",
       "      <td>int64</td>\n",
       "      <td>0</td>\n",
       "      <td>0.0</td>\n",
       "      <td>5</td>\n",
       "      <td>[3, 5, 4, 1, 2]</td>\n",
       "    </tr>\n",
       "    <tr>\n",
       "      <th>11</th>\n",
       "      <td>grade</td>\n",
       "      <td>int64</td>\n",
       "      <td>0</td>\n",
       "      <td>0.0</td>\n",
       "      <td>12</td>\n",
       "      <td>[7, 6, 8, 11, 9, 5, 10, 12, 4, 3, 13, 1]</td>\n",
       "    </tr>\n",
       "    <tr>\n",
       "      <th>12</th>\n",
       "      <td>sqft_above</td>\n",
       "      <td>int64</td>\n",
       "      <td>0</td>\n",
       "      <td>0.0</td>\n",
       "      <td>946</td>\n",
       "      <td>[1180, 2170, 770, 1050, 1680, 3890, 1715, 1060...</td>\n",
       "    </tr>\n",
       "    <tr>\n",
       "      <th>13</th>\n",
       "      <td>sqft_basement</td>\n",
       "      <td>int64</td>\n",
       "      <td>0</td>\n",
       "      <td>0.0</td>\n",
       "      <td>306</td>\n",
       "      <td>[0, 400, 910, 1530, 730, 1700, 300, 970, 760, ...</td>\n",
       "    </tr>\n",
       "    <tr>\n",
       "      <th>14</th>\n",
       "      <td>yr_built</td>\n",
       "      <td>int64</td>\n",
       "      <td>0</td>\n",
       "      <td>0.0</td>\n",
       "      <td>116</td>\n",
       "      <td>[1955, 1951, 1933, 1965, 1987, 2001, 1995, 196...</td>\n",
       "    </tr>\n",
       "    <tr>\n",
       "      <th>15</th>\n",
       "      <td>yr_renovated</td>\n",
       "      <td>int64</td>\n",
       "      <td>0</td>\n",
       "      <td>0.0</td>\n",
       "      <td>70</td>\n",
       "      <td>[0, 1991, 2002, 2010, 1999, 1992, 2013, 1994, ...</td>\n",
       "    </tr>\n",
       "    <tr>\n",
       "      <th>16</th>\n",
       "      <td>zipcode</td>\n",
       "      <td>int64</td>\n",
       "      <td>0</td>\n",
       "      <td>0.0</td>\n",
       "      <td>70</td>\n",
       "      <td>[98178, 98125, 98028, 98136, 98074, 98053, 980...</td>\n",
       "    </tr>\n",
       "    <tr>\n",
       "      <th>17</th>\n",
       "      <td>lat</td>\n",
       "      <td>float64</td>\n",
       "      <td>0</td>\n",
       "      <td>0.0</td>\n",
       "      <td>5034</td>\n",
       "      <td>[47.5112, 47.721000000000004, 47.7379, 47.5208...</td>\n",
       "    </tr>\n",
       "    <tr>\n",
       "      <th>18</th>\n",
       "      <td>long</td>\n",
       "      <td>float64</td>\n",
       "      <td>0</td>\n",
       "      <td>0.0</td>\n",
       "      <td>752</td>\n",
       "      <td>[-122.257, -122.319, -122.23299999999999, -122...</td>\n",
       "    </tr>\n",
       "    <tr>\n",
       "      <th>19</th>\n",
       "      <td>sqft_living15</td>\n",
       "      <td>int64</td>\n",
       "      <td>0</td>\n",
       "      <td>0.0</td>\n",
       "      <td>777</td>\n",
       "      <td>[1340, 1690, 2720, 1360, 1800, 4760, 2238, 165...</td>\n",
       "    </tr>\n",
       "    <tr>\n",
       "      <th>20</th>\n",
       "      <td>sqft_lot15</td>\n",
       "      <td>int64</td>\n",
       "      <td>0</td>\n",
       "      <td>0.0</td>\n",
       "      <td>8689</td>\n",
       "      <td>[5650, 7639, 8062, 5000, 7503, 101930, 6819, 9...</td>\n",
       "    </tr>\n",
       "  </tbody>\n",
       "</table>\n",
       "</div>"
      ],
      "text/plain": [
       "             Data Data Types  Null  Null Percentage  Unique  \\\n",
       "0              id      int64     0              0.0   21436   \n",
       "1            date     object     0              0.0     372   \n",
       "2           price    float64     0              0.0    4028   \n",
       "3        bedrooms      int64     0              0.0      13   \n",
       "4       bathrooms    float64     0              0.0      30   \n",
       "5     sqft_living      int64     0              0.0    1038   \n",
       "6        sqft_lot      int64     0              0.0    9782   \n",
       "7          floors    float64     0              0.0       6   \n",
       "8      waterfront      int64     0              0.0       2   \n",
       "9            view      int64     0              0.0       5   \n",
       "10      condition      int64     0              0.0       5   \n",
       "11          grade      int64     0              0.0      12   \n",
       "12     sqft_above      int64     0              0.0     946   \n",
       "13  sqft_basement      int64     0              0.0     306   \n",
       "14       yr_built      int64     0              0.0     116   \n",
       "15   yr_renovated      int64     0              0.0      70   \n",
       "16        zipcode      int64     0              0.0      70   \n",
       "17            lat    float64     0              0.0    5034   \n",
       "18           long    float64     0              0.0     752   \n",
       "19  sqft_living15      int64     0              0.0     777   \n",
       "20     sqft_lot15      int64     0              0.0    8689   \n",
       "\n",
       "                                        Unique Sample  \n",
       "0   [7129300520, 6414100192, 5631500400, 248720087...  \n",
       "1   [20141013T000000, 20141209T000000, 20150225T00...  \n",
       "2   [221900.0, 538000.0, 180000.0, 604000.0, 51000...  \n",
       "3          [3, 2, 4, 5, 1, 6, 7, 0, 8, 9, 11, 10, 33]  \n",
       "4   [1.0, 2.25, 3.0, 2.0, 4.5, 1.5, 2.5, 1.75, 2.7...  \n",
       "5   [1180, 2570, 770, 1960, 1680, 5420, 1715, 1060...  \n",
       "6   [5650, 7242, 10000, 5000, 8080, 101930, 6819, ...  \n",
       "7                      [1.0, 2.0, 1.5, 3.0, 2.5, 3.5]  \n",
       "8                                              [0, 1]  \n",
       "9                                     [0, 3, 4, 2, 1]  \n",
       "10                                    [3, 5, 4, 1, 2]  \n",
       "11           [7, 6, 8, 11, 9, 5, 10, 12, 4, 3, 13, 1]  \n",
       "12  [1180, 2170, 770, 1050, 1680, 3890, 1715, 1060...  \n",
       "13  [0, 400, 910, 1530, 730, 1700, 300, 970, 760, ...  \n",
       "14  [1955, 1951, 1933, 1965, 1987, 2001, 1995, 196...  \n",
       "15  [0, 1991, 2002, 2010, 1999, 1992, 2013, 1994, ...  \n",
       "16  [98178, 98125, 98028, 98136, 98074, 98053, 980...  \n",
       "17  [47.5112, 47.721000000000004, 47.7379, 47.5208...  \n",
       "18  [-122.257, -122.319, -122.23299999999999, -122...  \n",
       "19  [1340, 1690, 2720, 1360, 1800, 4760, 2238, 165...  \n",
       "20  [5650, 7639, 8062, 5000, 7503, 101930, 6819, 9...  "
      ]
     },
     "execution_count": 6,
     "metadata": {},
     "output_type": "execute_result"
    }
   ],
   "source": [
    "pd.DataFrame(data=data_describe, columns=['Data','Data Types','Null','Null Percentage','Unique','Unique Sample'])"
   ]
  },
  {
   "cell_type": "code",
   "execution_count": 7,
   "metadata": {},
   "outputs": [
    {
     "data": {
      "text/html": [
       "<div>\n",
       "<style scoped>\n",
       "    .dataframe tbody tr th:only-of-type {\n",
       "        vertical-align: middle;\n",
       "    }\n",
       "\n",
       "    .dataframe tbody tr th {\n",
       "        vertical-align: top;\n",
       "    }\n",
       "\n",
       "    .dataframe thead th {\n",
       "        text-align: right;\n",
       "    }\n",
       "</style>\n",
       "<table border=\"1\" class=\"dataframe\">\n",
       "  <thead>\n",
       "    <tr style=\"text-align: right;\">\n",
       "      <th></th>\n",
       "      <th>id</th>\n",
       "      <th>price</th>\n",
       "      <th>bedrooms</th>\n",
       "      <th>bathrooms</th>\n",
       "      <th>sqft_living</th>\n",
       "      <th>sqft_lot</th>\n",
       "      <th>floors</th>\n",
       "      <th>waterfront</th>\n",
       "      <th>view</th>\n",
       "      <th>condition</th>\n",
       "      <th>grade</th>\n",
       "      <th>sqft_above</th>\n",
       "      <th>sqft_basement</th>\n",
       "      <th>yr_built</th>\n",
       "      <th>yr_renovated</th>\n",
       "      <th>zipcode</th>\n",
       "      <th>lat</th>\n",
       "      <th>long</th>\n",
       "      <th>sqft_living15</th>\n",
       "      <th>sqft_lot15</th>\n",
       "    </tr>\n",
       "  </thead>\n",
       "  <tbody>\n",
       "    <tr>\n",
       "      <th>count</th>\n",
       "      <td>2.161300e+04</td>\n",
       "      <td>2.161300e+04</td>\n",
       "      <td>21613.000000</td>\n",
       "      <td>21613.000000</td>\n",
       "      <td>21613.000000</td>\n",
       "      <td>2.161300e+04</td>\n",
       "      <td>21613.000000</td>\n",
       "      <td>21613.000000</td>\n",
       "      <td>21613.000000</td>\n",
       "      <td>21613.000000</td>\n",
       "      <td>21613.000000</td>\n",
       "      <td>21613.000000</td>\n",
       "      <td>21613.000000</td>\n",
       "      <td>21613.000000</td>\n",
       "      <td>21613.000000</td>\n",
       "      <td>21613.000000</td>\n",
       "      <td>21613.000000</td>\n",
       "      <td>21613.000000</td>\n",
       "      <td>21613.000000</td>\n",
       "      <td>21613.000000</td>\n",
       "    </tr>\n",
       "    <tr>\n",
       "      <th>mean</th>\n",
       "      <td>4.580302e+09</td>\n",
       "      <td>5.400881e+05</td>\n",
       "      <td>3.370842</td>\n",
       "      <td>2.114757</td>\n",
       "      <td>2079.899736</td>\n",
       "      <td>1.510697e+04</td>\n",
       "      <td>1.494309</td>\n",
       "      <td>0.007542</td>\n",
       "      <td>0.234303</td>\n",
       "      <td>3.409430</td>\n",
       "      <td>7.656873</td>\n",
       "      <td>1788.390691</td>\n",
       "      <td>291.509045</td>\n",
       "      <td>1971.005136</td>\n",
       "      <td>84.402258</td>\n",
       "      <td>98077.939805</td>\n",
       "      <td>47.560053</td>\n",
       "      <td>-122.213896</td>\n",
       "      <td>1986.552492</td>\n",
       "      <td>12768.455652</td>\n",
       "    </tr>\n",
       "    <tr>\n",
       "      <th>std</th>\n",
       "      <td>2.876566e+09</td>\n",
       "      <td>3.671272e+05</td>\n",
       "      <td>0.930062</td>\n",
       "      <td>0.770163</td>\n",
       "      <td>918.440897</td>\n",
       "      <td>4.142051e+04</td>\n",
       "      <td>0.539989</td>\n",
       "      <td>0.086517</td>\n",
       "      <td>0.766318</td>\n",
       "      <td>0.650743</td>\n",
       "      <td>1.175459</td>\n",
       "      <td>828.090978</td>\n",
       "      <td>442.575043</td>\n",
       "      <td>29.373411</td>\n",
       "      <td>401.679240</td>\n",
       "      <td>53.505026</td>\n",
       "      <td>0.138564</td>\n",
       "      <td>0.140828</td>\n",
       "      <td>685.391304</td>\n",
       "      <td>27304.179631</td>\n",
       "    </tr>\n",
       "    <tr>\n",
       "      <th>min</th>\n",
       "      <td>1.000102e+06</td>\n",
       "      <td>7.500000e+04</td>\n",
       "      <td>0.000000</td>\n",
       "      <td>0.000000</td>\n",
       "      <td>290.000000</td>\n",
       "      <td>5.200000e+02</td>\n",
       "      <td>1.000000</td>\n",
       "      <td>0.000000</td>\n",
       "      <td>0.000000</td>\n",
       "      <td>1.000000</td>\n",
       "      <td>1.000000</td>\n",
       "      <td>290.000000</td>\n",
       "      <td>0.000000</td>\n",
       "      <td>1900.000000</td>\n",
       "      <td>0.000000</td>\n",
       "      <td>98001.000000</td>\n",
       "      <td>47.155900</td>\n",
       "      <td>-122.519000</td>\n",
       "      <td>399.000000</td>\n",
       "      <td>651.000000</td>\n",
       "    </tr>\n",
       "    <tr>\n",
       "      <th>25%</th>\n",
       "      <td>2.123049e+09</td>\n",
       "      <td>3.219500e+05</td>\n",
       "      <td>3.000000</td>\n",
       "      <td>1.750000</td>\n",
       "      <td>1427.000000</td>\n",
       "      <td>5.040000e+03</td>\n",
       "      <td>1.000000</td>\n",
       "      <td>0.000000</td>\n",
       "      <td>0.000000</td>\n",
       "      <td>3.000000</td>\n",
       "      <td>7.000000</td>\n",
       "      <td>1190.000000</td>\n",
       "      <td>0.000000</td>\n",
       "      <td>1951.000000</td>\n",
       "      <td>0.000000</td>\n",
       "      <td>98033.000000</td>\n",
       "      <td>47.471000</td>\n",
       "      <td>-122.328000</td>\n",
       "      <td>1490.000000</td>\n",
       "      <td>5100.000000</td>\n",
       "    </tr>\n",
       "    <tr>\n",
       "      <th>50%</th>\n",
       "      <td>3.904930e+09</td>\n",
       "      <td>4.500000e+05</td>\n",
       "      <td>3.000000</td>\n",
       "      <td>2.250000</td>\n",
       "      <td>1910.000000</td>\n",
       "      <td>7.618000e+03</td>\n",
       "      <td>1.500000</td>\n",
       "      <td>0.000000</td>\n",
       "      <td>0.000000</td>\n",
       "      <td>3.000000</td>\n",
       "      <td>7.000000</td>\n",
       "      <td>1560.000000</td>\n",
       "      <td>0.000000</td>\n",
       "      <td>1975.000000</td>\n",
       "      <td>0.000000</td>\n",
       "      <td>98065.000000</td>\n",
       "      <td>47.571800</td>\n",
       "      <td>-122.230000</td>\n",
       "      <td>1840.000000</td>\n",
       "      <td>7620.000000</td>\n",
       "    </tr>\n",
       "    <tr>\n",
       "      <th>75%</th>\n",
       "      <td>7.308900e+09</td>\n",
       "      <td>6.450000e+05</td>\n",
       "      <td>4.000000</td>\n",
       "      <td>2.500000</td>\n",
       "      <td>2550.000000</td>\n",
       "      <td>1.068800e+04</td>\n",
       "      <td>2.000000</td>\n",
       "      <td>0.000000</td>\n",
       "      <td>0.000000</td>\n",
       "      <td>4.000000</td>\n",
       "      <td>8.000000</td>\n",
       "      <td>2210.000000</td>\n",
       "      <td>560.000000</td>\n",
       "      <td>1997.000000</td>\n",
       "      <td>0.000000</td>\n",
       "      <td>98118.000000</td>\n",
       "      <td>47.678000</td>\n",
       "      <td>-122.125000</td>\n",
       "      <td>2360.000000</td>\n",
       "      <td>10083.000000</td>\n",
       "    </tr>\n",
       "    <tr>\n",
       "      <th>max</th>\n",
       "      <td>9.900000e+09</td>\n",
       "      <td>7.700000e+06</td>\n",
       "      <td>33.000000</td>\n",
       "      <td>8.000000</td>\n",
       "      <td>13540.000000</td>\n",
       "      <td>1.651359e+06</td>\n",
       "      <td>3.500000</td>\n",
       "      <td>1.000000</td>\n",
       "      <td>4.000000</td>\n",
       "      <td>5.000000</td>\n",
       "      <td>13.000000</td>\n",
       "      <td>9410.000000</td>\n",
       "      <td>4820.000000</td>\n",
       "      <td>2015.000000</td>\n",
       "      <td>2015.000000</td>\n",
       "      <td>98199.000000</td>\n",
       "      <td>47.777600</td>\n",
       "      <td>-121.315000</td>\n",
       "      <td>6210.000000</td>\n",
       "      <td>871200.000000</td>\n",
       "    </tr>\n",
       "  </tbody>\n",
       "</table>\n",
       "</div>"
      ],
      "text/plain": [
       "                 id         price      bedrooms     bathrooms   sqft_living  \\\n",
       "count  2.161300e+04  2.161300e+04  21613.000000  21613.000000  21613.000000   \n",
       "mean   4.580302e+09  5.400881e+05      3.370842      2.114757   2079.899736   \n",
       "std    2.876566e+09  3.671272e+05      0.930062      0.770163    918.440897   \n",
       "min    1.000102e+06  7.500000e+04      0.000000      0.000000    290.000000   \n",
       "25%    2.123049e+09  3.219500e+05      3.000000      1.750000   1427.000000   \n",
       "50%    3.904930e+09  4.500000e+05      3.000000      2.250000   1910.000000   \n",
       "75%    7.308900e+09  6.450000e+05      4.000000      2.500000   2550.000000   \n",
       "max    9.900000e+09  7.700000e+06     33.000000      8.000000  13540.000000   \n",
       "\n",
       "           sqft_lot        floors    waterfront          view     condition  \\\n",
       "count  2.161300e+04  21613.000000  21613.000000  21613.000000  21613.000000   \n",
       "mean   1.510697e+04      1.494309      0.007542      0.234303      3.409430   \n",
       "std    4.142051e+04      0.539989      0.086517      0.766318      0.650743   \n",
       "min    5.200000e+02      1.000000      0.000000      0.000000      1.000000   \n",
       "25%    5.040000e+03      1.000000      0.000000      0.000000      3.000000   \n",
       "50%    7.618000e+03      1.500000      0.000000      0.000000      3.000000   \n",
       "75%    1.068800e+04      2.000000      0.000000      0.000000      4.000000   \n",
       "max    1.651359e+06      3.500000      1.000000      4.000000      5.000000   \n",
       "\n",
       "              grade    sqft_above  sqft_basement      yr_built  yr_renovated  \\\n",
       "count  21613.000000  21613.000000   21613.000000  21613.000000  21613.000000   \n",
       "mean       7.656873   1788.390691     291.509045   1971.005136     84.402258   \n",
       "std        1.175459    828.090978     442.575043     29.373411    401.679240   \n",
       "min        1.000000    290.000000       0.000000   1900.000000      0.000000   \n",
       "25%        7.000000   1190.000000       0.000000   1951.000000      0.000000   \n",
       "50%        7.000000   1560.000000       0.000000   1975.000000      0.000000   \n",
       "75%        8.000000   2210.000000     560.000000   1997.000000      0.000000   \n",
       "max       13.000000   9410.000000    4820.000000   2015.000000   2015.000000   \n",
       "\n",
       "            zipcode           lat          long  sqft_living15     sqft_lot15  \n",
       "count  21613.000000  21613.000000  21613.000000   21613.000000   21613.000000  \n",
       "mean   98077.939805     47.560053   -122.213896    1986.552492   12768.455652  \n",
       "std       53.505026      0.138564      0.140828     685.391304   27304.179631  \n",
       "min    98001.000000     47.155900   -122.519000     399.000000     651.000000  \n",
       "25%    98033.000000     47.471000   -122.328000    1490.000000    5100.000000  \n",
       "50%    98065.000000     47.571800   -122.230000    1840.000000    7620.000000  \n",
       "75%    98118.000000     47.678000   -122.125000    2360.000000   10083.000000  \n",
       "max    98199.000000     47.777600   -121.315000    6210.000000  871200.000000  "
      ]
     },
     "execution_count": 7,
     "metadata": {},
     "output_type": "execute_result"
    }
   ],
   "source": [
    "df.describe()"
   ]
  },
  {
   "cell_type": "markdown",
   "metadata": {},
   "source": [
    "## Exploratory Analysis and Visualization"
   ]
  },
  {
   "cell_type": "code",
   "execution_count": 8,
   "metadata": {},
   "outputs": [
    {
     "data": {
      "text/html": [
       "<div>\n",
       "<style scoped>\n",
       "    .dataframe tbody tr th:only-of-type {\n",
       "        vertical-align: middle;\n",
       "    }\n",
       "\n",
       "    .dataframe tbody tr th {\n",
       "        vertical-align: top;\n",
       "    }\n",
       "\n",
       "    .dataframe thead th {\n",
       "        text-align: right;\n",
       "    }\n",
       "</style>\n",
       "<table border=\"1\" class=\"dataframe\">\n",
       "  <thead>\n",
       "    <tr style=\"text-align: right;\">\n",
       "      <th></th>\n",
       "      <th>id</th>\n",
       "      <th>date</th>\n",
       "      <th>price</th>\n",
       "      <th>bedrooms</th>\n",
       "      <th>bathrooms</th>\n",
       "      <th>sqft_living</th>\n",
       "      <th>sqft_lot</th>\n",
       "      <th>floors</th>\n",
       "      <th>waterfront</th>\n",
       "      <th>view</th>\n",
       "      <th>...</th>\n",
       "      <th>grade</th>\n",
       "      <th>sqft_above</th>\n",
       "      <th>sqft_basement</th>\n",
       "      <th>yr_built</th>\n",
       "      <th>yr_renovated</th>\n",
       "      <th>zipcode</th>\n",
       "      <th>lat</th>\n",
       "      <th>long</th>\n",
       "      <th>sqft_living15</th>\n",
       "      <th>sqft_lot15</th>\n",
       "    </tr>\n",
       "  </thead>\n",
       "  <tbody>\n",
       "    <tr>\n",
       "      <th>7252</th>\n",
       "      <td>6762700020</td>\n",
       "      <td>20141013T000000</td>\n",
       "      <td>7700000.0</td>\n",
       "      <td>6</td>\n",
       "      <td>8.00</td>\n",
       "      <td>12050</td>\n",
       "      <td>27600</td>\n",
       "      <td>2.5</td>\n",
       "      <td>0</td>\n",
       "      <td>3</td>\n",
       "      <td>...</td>\n",
       "      <td>13</td>\n",
       "      <td>8570</td>\n",
       "      <td>3480</td>\n",
       "      <td>1910</td>\n",
       "      <td>1987</td>\n",
       "      <td>98102</td>\n",
       "      <td>47.6298</td>\n",
       "      <td>-122.323</td>\n",
       "      <td>3940</td>\n",
       "      <td>8800</td>\n",
       "    </tr>\n",
       "    <tr>\n",
       "      <th>3914</th>\n",
       "      <td>9808700762</td>\n",
       "      <td>20140611T000000</td>\n",
       "      <td>7062500.0</td>\n",
       "      <td>5</td>\n",
       "      <td>4.50</td>\n",
       "      <td>10040</td>\n",
       "      <td>37325</td>\n",
       "      <td>2.0</td>\n",
       "      <td>1</td>\n",
       "      <td>2</td>\n",
       "      <td>...</td>\n",
       "      <td>11</td>\n",
       "      <td>7680</td>\n",
       "      <td>2360</td>\n",
       "      <td>1940</td>\n",
       "      <td>2001</td>\n",
       "      <td>98004</td>\n",
       "      <td>47.6500</td>\n",
       "      <td>-122.214</td>\n",
       "      <td>3930</td>\n",
       "      <td>25449</td>\n",
       "    </tr>\n",
       "    <tr>\n",
       "      <th>9254</th>\n",
       "      <td>9208900037</td>\n",
       "      <td>20140919T000000</td>\n",
       "      <td>6885000.0</td>\n",
       "      <td>6</td>\n",
       "      <td>7.75</td>\n",
       "      <td>9890</td>\n",
       "      <td>31374</td>\n",
       "      <td>2.0</td>\n",
       "      <td>0</td>\n",
       "      <td>4</td>\n",
       "      <td>...</td>\n",
       "      <td>13</td>\n",
       "      <td>8860</td>\n",
       "      <td>1030</td>\n",
       "      <td>2001</td>\n",
       "      <td>0</td>\n",
       "      <td>98039</td>\n",
       "      <td>47.6305</td>\n",
       "      <td>-122.240</td>\n",
       "      <td>4540</td>\n",
       "      <td>42730</td>\n",
       "    </tr>\n",
       "    <tr>\n",
       "      <th>4411</th>\n",
       "      <td>2470100110</td>\n",
       "      <td>20140804T000000</td>\n",
       "      <td>5570000.0</td>\n",
       "      <td>5</td>\n",
       "      <td>5.75</td>\n",
       "      <td>9200</td>\n",
       "      <td>35069</td>\n",
       "      <td>2.0</td>\n",
       "      <td>0</td>\n",
       "      <td>0</td>\n",
       "      <td>...</td>\n",
       "      <td>13</td>\n",
       "      <td>6200</td>\n",
       "      <td>3000</td>\n",
       "      <td>2001</td>\n",
       "      <td>0</td>\n",
       "      <td>98039</td>\n",
       "      <td>47.6289</td>\n",
       "      <td>-122.233</td>\n",
       "      <td>3560</td>\n",
       "      <td>24345</td>\n",
       "    </tr>\n",
       "    <tr>\n",
       "      <th>1448</th>\n",
       "      <td>8907500070</td>\n",
       "      <td>20150413T000000</td>\n",
       "      <td>5350000.0</td>\n",
       "      <td>5</td>\n",
       "      <td>5.00</td>\n",
       "      <td>8000</td>\n",
       "      <td>23985</td>\n",
       "      <td>2.0</td>\n",
       "      <td>0</td>\n",
       "      <td>4</td>\n",
       "      <td>...</td>\n",
       "      <td>12</td>\n",
       "      <td>6720</td>\n",
       "      <td>1280</td>\n",
       "      <td>2009</td>\n",
       "      <td>0</td>\n",
       "      <td>98004</td>\n",
       "      <td>47.6232</td>\n",
       "      <td>-122.220</td>\n",
       "      <td>4600</td>\n",
       "      <td>21750</td>\n",
       "    </tr>\n",
       "    <tr>\n",
       "      <th>...</th>\n",
       "      <td>...</td>\n",
       "      <td>...</td>\n",
       "      <td>...</td>\n",
       "      <td>...</td>\n",
       "      <td>...</td>\n",
       "      <td>...</td>\n",
       "      <td>...</td>\n",
       "      <td>...</td>\n",
       "      <td>...</td>\n",
       "      <td>...</td>\n",
       "      <td>...</td>\n",
       "      <td>...</td>\n",
       "      <td>...</td>\n",
       "      <td>...</td>\n",
       "      <td>...</td>\n",
       "      <td>...</td>\n",
       "      <td>...</td>\n",
       "      <td>...</td>\n",
       "      <td>...</td>\n",
       "      <td>...</td>\n",
       "      <td>...</td>\n",
       "    </tr>\n",
       "    <tr>\n",
       "      <th>8274</th>\n",
       "      <td>3883800011</td>\n",
       "      <td>20141105T000000</td>\n",
       "      <td>82000.0</td>\n",
       "      <td>3</td>\n",
       "      <td>1.00</td>\n",
       "      <td>860</td>\n",
       "      <td>10426</td>\n",
       "      <td>1.0</td>\n",
       "      <td>0</td>\n",
       "      <td>0</td>\n",
       "      <td>...</td>\n",
       "      <td>6</td>\n",
       "      <td>860</td>\n",
       "      <td>0</td>\n",
       "      <td>1954</td>\n",
       "      <td>0</td>\n",
       "      <td>98146</td>\n",
       "      <td>47.4987</td>\n",
       "      <td>-122.341</td>\n",
       "      <td>1140</td>\n",
       "      <td>11250</td>\n",
       "    </tr>\n",
       "    <tr>\n",
       "      <th>16198</th>\n",
       "      <td>3028200080</td>\n",
       "      <td>20150324T000000</td>\n",
       "      <td>81000.0</td>\n",
       "      <td>2</td>\n",
       "      <td>1.00</td>\n",
       "      <td>730</td>\n",
       "      <td>9975</td>\n",
       "      <td>1.0</td>\n",
       "      <td>0</td>\n",
       "      <td>0</td>\n",
       "      <td>...</td>\n",
       "      <td>5</td>\n",
       "      <td>730</td>\n",
       "      <td>0</td>\n",
       "      <td>1943</td>\n",
       "      <td>0</td>\n",
       "      <td>98168</td>\n",
       "      <td>47.4808</td>\n",
       "      <td>-122.315</td>\n",
       "      <td>860</td>\n",
       "      <td>9000</td>\n",
       "    </tr>\n",
       "    <tr>\n",
       "      <th>465</th>\n",
       "      <td>8658300340</td>\n",
       "      <td>20140523T000000</td>\n",
       "      <td>80000.0</td>\n",
       "      <td>1</td>\n",
       "      <td>0.75</td>\n",
       "      <td>430</td>\n",
       "      <td>5050</td>\n",
       "      <td>1.0</td>\n",
       "      <td>0</td>\n",
       "      <td>0</td>\n",
       "      <td>...</td>\n",
       "      <td>4</td>\n",
       "      <td>430</td>\n",
       "      <td>0</td>\n",
       "      <td>1912</td>\n",
       "      <td>0</td>\n",
       "      <td>98014</td>\n",
       "      <td>47.6499</td>\n",
       "      <td>-121.909</td>\n",
       "      <td>1200</td>\n",
       "      <td>7500</td>\n",
       "    </tr>\n",
       "    <tr>\n",
       "      <th>15293</th>\n",
       "      <td>40000362</td>\n",
       "      <td>20140506T000000</td>\n",
       "      <td>78000.0</td>\n",
       "      <td>2</td>\n",
       "      <td>1.00</td>\n",
       "      <td>780</td>\n",
       "      <td>16344</td>\n",
       "      <td>1.0</td>\n",
       "      <td>0</td>\n",
       "      <td>0</td>\n",
       "      <td>...</td>\n",
       "      <td>5</td>\n",
       "      <td>780</td>\n",
       "      <td>0</td>\n",
       "      <td>1942</td>\n",
       "      <td>0</td>\n",
       "      <td>98168</td>\n",
       "      <td>47.4739</td>\n",
       "      <td>-122.280</td>\n",
       "      <td>1700</td>\n",
       "      <td>10387</td>\n",
       "    </tr>\n",
       "    <tr>\n",
       "      <th>1149</th>\n",
       "      <td>3421079032</td>\n",
       "      <td>20150217T000000</td>\n",
       "      <td>75000.0</td>\n",
       "      <td>1</td>\n",
       "      <td>0.00</td>\n",
       "      <td>670</td>\n",
       "      <td>43377</td>\n",
       "      <td>1.0</td>\n",
       "      <td>0</td>\n",
       "      <td>0</td>\n",
       "      <td>...</td>\n",
       "      <td>3</td>\n",
       "      <td>670</td>\n",
       "      <td>0</td>\n",
       "      <td>1966</td>\n",
       "      <td>0</td>\n",
       "      <td>98022</td>\n",
       "      <td>47.2638</td>\n",
       "      <td>-121.906</td>\n",
       "      <td>1160</td>\n",
       "      <td>42882</td>\n",
       "    </tr>\n",
       "  </tbody>\n",
       "</table>\n",
       "<p>21613 rows × 21 columns</p>\n",
       "</div>"
      ],
      "text/plain": [
       "               id             date      price  bedrooms  bathrooms  \\\n",
       "7252   6762700020  20141013T000000  7700000.0         6       8.00   \n",
       "3914   9808700762  20140611T000000  7062500.0         5       4.50   \n",
       "9254   9208900037  20140919T000000  6885000.0         6       7.75   \n",
       "4411   2470100110  20140804T000000  5570000.0         5       5.75   \n",
       "1448   8907500070  20150413T000000  5350000.0         5       5.00   \n",
       "...           ...              ...        ...       ...        ...   \n",
       "8274   3883800011  20141105T000000    82000.0         3       1.00   \n",
       "16198  3028200080  20150324T000000    81000.0         2       1.00   \n",
       "465    8658300340  20140523T000000    80000.0         1       0.75   \n",
       "15293    40000362  20140506T000000    78000.0         2       1.00   \n",
       "1149   3421079032  20150217T000000    75000.0         1       0.00   \n",
       "\n",
       "       sqft_living  sqft_lot  floors  waterfront  view  ...  grade  \\\n",
       "7252         12050     27600     2.5           0     3  ...     13   \n",
       "3914         10040     37325     2.0           1     2  ...     11   \n",
       "9254          9890     31374     2.0           0     4  ...     13   \n",
       "4411          9200     35069     2.0           0     0  ...     13   \n",
       "1448          8000     23985     2.0           0     4  ...     12   \n",
       "...            ...       ...     ...         ...   ...  ...    ...   \n",
       "8274           860     10426     1.0           0     0  ...      6   \n",
       "16198          730      9975     1.0           0     0  ...      5   \n",
       "465            430      5050     1.0           0     0  ...      4   \n",
       "15293          780     16344     1.0           0     0  ...      5   \n",
       "1149           670     43377     1.0           0     0  ...      3   \n",
       "\n",
       "       sqft_above  sqft_basement  yr_built  yr_renovated  zipcode      lat  \\\n",
       "7252         8570           3480      1910          1987    98102  47.6298   \n",
       "3914         7680           2360      1940          2001    98004  47.6500   \n",
       "9254         8860           1030      2001             0    98039  47.6305   \n",
       "4411         6200           3000      2001             0    98039  47.6289   \n",
       "1448         6720           1280      2009             0    98004  47.6232   \n",
       "...           ...            ...       ...           ...      ...      ...   \n",
       "8274          860              0      1954             0    98146  47.4987   \n",
       "16198         730              0      1943             0    98168  47.4808   \n",
       "465           430              0      1912             0    98014  47.6499   \n",
       "15293         780              0      1942             0    98168  47.4739   \n",
       "1149          670              0      1966             0    98022  47.2638   \n",
       "\n",
       "          long  sqft_living15  sqft_lot15  \n",
       "7252  -122.323           3940        8800  \n",
       "3914  -122.214           3930       25449  \n",
       "9254  -122.240           4540       42730  \n",
       "4411  -122.233           3560       24345  \n",
       "1448  -122.220           4600       21750  \n",
       "...        ...            ...         ...  \n",
       "8274  -122.341           1140       11250  \n",
       "16198 -122.315            860        9000  \n",
       "465   -121.909           1200        7500  \n",
       "15293 -122.280           1700       10387  \n",
       "1149  -121.906           1160       42882  \n",
       "\n",
       "[21613 rows x 21 columns]"
      ]
     },
     "execution_count": 8,
     "metadata": {},
     "output_type": "execute_result"
    }
   ],
   "source": [
    "df.sort_values(by='price',ascending=False)"
   ]
  },
  {
   "cell_type": "code",
   "execution_count": 9,
   "metadata": {},
   "outputs": [
    {
     "name": "stdout",
     "output_type": "stream",
     "text": [
      "7252    7700000.0\n",
      "3914    7062500.0\n",
      "9254    6885000.0\n",
      "4411    5570000.0\n",
      "1448    5350000.0\n",
      "1315    5300000.0\n",
      "1164    5110800.0\n",
      "8092    4668000.0\n",
      "2626    4500000.0\n",
      "8638    4489000.0\n",
      "Name: price, dtype: float64\n",
      "7252    1910\n",
      "3914    1940\n",
      "9254    2001\n",
      "4411    2001\n",
      "1448    2009\n",
      "1315    1991\n",
      "1164    1999\n",
      "8092    1983\n",
      "2626    2004\n",
      "8638    2001\n",
      "Name: yr_built, dtype: int64\n"
     ]
    }
   ],
   "source": [
    "top_harga = df.sort_values(by='price',ascending=False) \n",
    "print(top_harga['price'].head(10))\n",
    "print(top_harga['yr_built'].head(10))\n",
    "\n",
    "#dari sini bisa dilihat bahwa harga rumah, semakin lama rumah dibangun, harga relatif lebih mahal. (tapi blm tentu selalu lebih mahal)"
   ]
  },
  {
   "cell_type": "code",
   "execution_count": 10,
   "metadata": {},
   "outputs": [
    {
     "data": {
      "text/plain": [
       "Int64Index([7252, 3914, 9254, 4411, 1448, 1315, 1164, 8092, 2626, 8638], dtype='int64')"
      ]
     },
     "execution_count": 10,
     "metadata": {},
     "output_type": "execute_result"
    }
   ],
   "source": [
    "top_harga.head(10).index\n"
   ]
  },
  {
   "cell_type": "code",
   "execution_count": 11,
   "metadata": {},
   "outputs": [
    {
     "data": {
      "text/plain": [
       "Text(0, 0.5, 'Harga (dalam jutaan)')"
      ]
     },
     "execution_count": 11,
     "metadata": {},
     "output_type": "execute_result"
    },
    {
     "data": {
      "image/png": "[encoded data removed]",
      "text/plain": [
       "<Figure size 432x288 with 1 Axes>"
      ]
     },
     "metadata": {
      "needs_background": "light"
     },
     "output_type": "display_data"
    }
   ],
   "source": [
    "plt.scatter(x=top_harga['yr_built'].head(10),y=top_harga['price'].head(10))\n",
    "plt.xlabel('Tahun Dibangun')\n",
    "plt.ylabel('Harga (dalam jutaan)')"
   ]
  },
  {
   "cell_type": "code",
   "execution_count": 12,
   "metadata": {},
   "outputs": [
    {
     "data": {
      "text/plain": [
       "3     9824\n",
       "4     6882\n",
       "2     2760\n",
       "5     1601\n",
       "6      272\n",
       "1      199\n",
       "7       38\n",
       "8       13\n",
       "0       13\n",
       "9        6\n",
       "10       3\n",
       "11       1\n",
       "33       1\n",
       "Name: bedrooms, dtype: int64"
      ]
     },
     "execution_count": 12,
     "metadata": {},
     "output_type": "execute_result"
    }
   ],
   "source": [
    "df['bedrooms'].value_counts() #mencari kira2 paling banyak berapa kamar tidur di dalam suatu rumah"
   ]
  },
  {
   "cell_type": "code",
   "execution_count": 13,
   "metadata": {},
   "outputs": [
    {
     "data": {
      "text/plain": [
       "Int64Index([3, 4, 2, 5, 6, 1, 7, 8, 0, 9, 10, 11, 33], dtype='int64')"
      ]
     },
     "execution_count": 13,
     "metadata": {},
     "output_type": "execute_result"
    }
   ],
   "source": [
    "df['bedrooms'].value_counts().index"
   ]
  },
  {
   "cell_type": "code",
   "execution_count": 14,
   "metadata": {},
   "outputs": [
    {
     "data": {
      "text/plain": [
       "15870    33\n",
       "8757     11\n",
       "19254    10\n",
       "13314    10\n",
       "15161    10\n",
       "         ..\n",
       "14423     0\n",
       "19452     0\n",
       "9854      0\n",
       "6994      0\n",
       "9773      0\n",
       "Name: bedrooms, Length: 21613, dtype: int64"
      ]
     },
     "execution_count": 14,
     "metadata": {},
     "output_type": "execute_result"
    }
   ],
   "source": [
    "df['bedrooms'].sort_values(ascending=False)"
   ]
  },
  {
   "cell_type": "code",
   "execution_count": 15,
   "metadata": {},
   "outputs": [
    {
     "data": {
      "text/plain": [
       "<matplotlib.collections.PathCollection at 0x245bcba93a0>"
      ]
     },
     "execution_count": 15,
     "metadata": {},
     "output_type": "execute_result"
    },
    {
     "data": {
      "image/png": "[encoded data removed]",
      "text/plain": [
       "<Figure size 432x288 with 1 Axes>"
      ]
     },
     "metadata": {
      "needs_background": "light"
     },
     "output_type": "display_data"
    }
   ],
   "source": [
    "plt.scatter(top_harga['bedrooms'].head(10),top_harga['yr_built'].head(10))"
   ]
  },
  {
   "cell_type": "markdown",
   "metadata": {},
   "source": [
    "Dari grafik diatas, bisa dilihat bahwa kurang lebih dari top 10 harga rumah termahal, didominasi di 5 kamar."
   ]
  },
  {
   "cell_type": "code",
   "execution_count": 16,
   "metadata": {},
   "outputs": [
    {
     "data": {
      "image/png": "[encoded data removed]",
      "text/plain": [
       "<Figure size 432x288 with 1 Axes>"
      ]
     },
     "metadata": {
      "needs_background": "light"
     },
     "output_type": "display_data"
    }
   ],
   "source": [
    "plt.bar(df['bedrooms'].value_counts().index[:9],df['bedrooms'].value_counts().head(9),color='red')\n",
    "\n",
    "plt.xlabel('Jumlah Kamar')\n",
    "plt.ylabel('Jumlah Rumah')\n",
    "plt.show()\n",
    "#disini kita melihat bahwa jumlah kamar pada umumnya, orang2 fokus ke 3 kamar tidur dalam satu rumah. dan dari data set ini , \n",
    "#setelah dijumlahkan semuanya, ada sekitar 9000+ data rumah yg mempunyai kamar tidur 3 saja"
   ]
  },
  {
   "cell_type": "code",
   "execution_count": 17,
   "metadata": {},
   "outputs": [
    {
     "data": {
      "text/plain": [
       "<matplotlib.axes._subplots.AxesSubplot at 0x245bcc45d30>"
      ]
     },
     "execution_count": 17,
     "metadata": {},
     "output_type": "execute_result"
    },
    {
     "data": {
      "image/png": "[encoded data removed]",
      "text/plain": [
       "<Figure size 432x288 with 1 Axes>"
      ]
     },
     "metadata": {
      "needs_background": "light"
     },
     "output_type": "display_data"
    }
   ],
   "source": [
    "sns.countplot(df['bedrooms'])"
   ]
  },
  {
   "cell_type": "code",
   "execution_count": 18,
   "metadata": {},
   "outputs": [
    {
     "data": {
      "text/plain": [
       "(array([1451., 1616., 3764., 4356., 4791., 5635.]),\n",
       " array([1900.        , 1919.16666667, 1938.33333333, 1957.5       ,\n",
       "        1976.66666667, 1995.83333333, 2015.        ]),\n",
       " <a list of 6 Patch objects>)"
      ]
     },
     "execution_count": 18,
     "metadata": {},
     "output_type": "execute_result"
    },
    {
     "data": {
      "image/png": "[encoded data removed]",
      "text/plain": [
       "<Figure size 432x288 with 1 Axes>"
      ]
     },
     "metadata": {
      "needs_background": "light"
     },
     "output_type": "display_data"
    }
   ],
   "source": [
    "plt.hist(x=df['yr_built'],bins=6,color='green')"
   ]
  },
  {
   "cell_type": "code",
   "execution_count": 19,
   "metadata": {},
   "outputs": [],
   "source": [
    "# Visualisasi Rumah 10 Rumah Termahal \n",
    "m = folium.Map(\n",
    "location =[47.560053,-122.519000],\n",
    "    tiles='OpenStreetMap'\n",
    "\n",
    ")\n",
    "for z in top_harga.head(10).index: #looping dimana nti H diganti dg index Z\n",
    "    folium.Marker([df['lat'][z],df['long'][z]],\n",
    "                  tooltip='House',\n",
    "             popup=f'Housing {z}',\n",
    "             icon= folium.Icon(color='red',icon='info-sign')\n",
    "\n",
    "             ).add_to(m)"
   ]
  },
  {
   "cell_type": "markdown",
   "metadata": {},
   "source": [
    "dari coding diatas, kita menggunakan folium map, dimana nanti kita looping berdasarkan id yg telah kita ascending tadi diawal yaitu top_harga. (sudah diurutkan) kemudian kita berikan icon,popup maupun tooltip"
   ]
  },
  {
   "cell_type": "code",
   "execution_count": 20,
   "metadata": {},
   "outputs": [
    {
     "data": {
      "text/html": [
       "<div style=\"width:100%;\"><div style=\"position:relative;width:100%;height:0;padding-bottom:60%;\"><span style=\"color:#565656\">Make this Notebook Trusted to load map: File -> Trust Notebook</span><iframe src=\"about:blank\" style=\"position:absolute;width:100%;height:100%;left:0;top:0;border:none !important;\" data-html=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 onload=\"this.contentDocument.open();this.contentDocument.write(atob(this.getAttribute('data-html')));this.contentDocument.close();\" allowfullscreen webkitallowfullscreen mozallowfullscreen></iframe></div></div>"
      ],
      "text/plain": [
       "<folium.folium.Map at 0x245bccbbe50>"
      ]
     },
     "execution_count": 20,
     "metadata": {},
     "output_type": "execute_result"
    }
   ],
   "source": [
    "m"
   ]
  },
  {
   "cell_type": "markdown",
   "metadata": {},
   "source": [
    "Dari peta diatas,10 Rumah termahal ternyata tidak terletak di 1 tempat (perumahan) melainkan berbeda2 tempat"
   ]
  },
  {
   "cell_type": "code",
   "execution_count": 21,
   "metadata": {},
   "outputs": [
    {
     "data": {
      "text/plain": [
       "<matplotlib.axes._subplots.AxesSubplot at 0x245bcb68d60>"
      ]
     },
     "execution_count": 21,
     "metadata": {},
     "output_type": "execute_result"
    },
    {
     "data": {
      "image/png": "[encoded data removed]",
      "text/plain": [
       "<Figure size 432x288 with 1 Axes>"
      ]
     },
     "metadata": {
      "needs_background": "light"
     },
     "output_type": "display_data"
    }
   ],
   "source": [
    "sns.boxplot(df['price']) #dari sini berati bisa disimpulkan bahwa ada lmyn banyak outliers hingga hampir ke 8jt dollar"
   ]
  },
  {
   "cell_type": "code",
   "execution_count": 22,
   "metadata": {},
   "outputs": [
    {
     "data": {
      "text/plain": [
       "1149       75000.0\n",
       "15293      78000.0\n",
       "465        80000.0\n",
       "16198      81000.0\n",
       "8274       82000.0\n",
       "           ...    \n",
       "1448     5350000.0\n",
       "4411     5570000.0\n",
       "9254     6885000.0\n",
       "3914     7062500.0\n",
       "7252     7700000.0\n",
       "Name: price, Length: 21613, dtype: float64"
      ]
     },
     "execution_count": 22,
     "metadata": {},
     "output_type": "execute_result"
    }
   ],
   "source": [
    "df['price'].sort_values(ascending=True) #dari sini harga termurah di 75rb dollar dan tertinggi di 7,7jt dollar"
   ]
  },
  {
   "cell_type": "code",
   "execution_count": 23,
   "metadata": {},
   "outputs": [
    {
     "data": {
      "text/plain": [
       "Index(['id', 'date', 'price', 'bedrooms', 'bathrooms', 'sqft_living',\n",
       "       'sqft_lot', 'floors', 'waterfront', 'view', 'condition', 'grade',\n",
       "       'sqft_above', 'sqft_basement', 'yr_built', 'yr_renovated', 'zipcode',\n",
       "       'lat', 'long', 'sqft_living15', 'sqft_lot15'],\n",
       "      dtype='object')"
      ]
     },
     "execution_count": 23,
     "metadata": {},
     "output_type": "execute_result"
    }
   ],
   "source": [
    "df.columns"
   ]
  },
  {
   "cell_type": "code",
   "execution_count": 24,
   "metadata": {},
   "outputs": [],
   "source": [
    "df.drop(columns=['date','id'],inplace=True)"
   ]
  },
  {
   "cell_type": "code",
   "execution_count": 25,
   "metadata": {},
   "outputs": [
    {
     "data": {
      "text/plain": [
       "Index(['price', 'bedrooms', 'bathrooms', 'sqft_living', 'sqft_lot', 'floors',\n",
       "       'waterfront', 'view', 'condition', 'grade', 'sqft_above',\n",
       "       'sqft_basement', 'yr_built', 'yr_renovated', 'zipcode', 'lat', 'long',\n",
       "       'sqft_living15', 'sqft_lot15'],\n",
       "      dtype='object')"
      ]
     },
     "execution_count": 25,
     "metadata": {},
     "output_type": "execute_result"
    }
   ],
   "source": [
    "df.columns"
   ]
  },
  {
   "cell_type": "code",
   "execution_count": 26,
   "metadata": {},
   "outputs": [],
   "source": [
    "### Splitting Data"
   ]
  },
  {
   "cell_type": "code",
   "execution_count": 27,
   "metadata": {},
   "outputs": [],
   "source": [
    "from sklearn.model_selection import train_test_split"
   ]
  },
  {
   "cell_type": "code",
   "execution_count": 28,
   "metadata": {},
   "outputs": [],
   "source": [
    "X = df.drop(columns='price') #feature /Soal\n",
    "y = df['price'] #Trget/jawaban\n",
    "\n",
    "X_train,X_test,y_train,y_test = train_test_split(X,y,test_size = .20, random_state = 3) #bisa juga pake (KEBALIKAN)train_size = .80"
   ]
  },
  {
   "cell_type": "code",
   "execution_count": 29,
   "metadata": {},
   "outputs": [
    {
     "data": {
      "text/html": [
       "<div>\n",
       "<style scoped>\n",
       "    .dataframe tbody tr th:only-of-type {\n",
       "        vertical-align: middle;\n",
       "    }\n",
       "\n",
       "    .dataframe tbody tr th {\n",
       "        vertical-align: top;\n",
       "    }\n",
       "\n",
       "    .dataframe thead th {\n",
       "        text-align: right;\n",
       "    }\n",
       "</style>\n",
       "<table border=\"1\" class=\"dataframe\">\n",
       "  <thead>\n",
       "    <tr style=\"text-align: right;\">\n",
       "      <th></th>\n",
       "      <th>bedrooms</th>\n",
       "      <th>bathrooms</th>\n",
       "      <th>sqft_living</th>\n",
       "      <th>sqft_lot</th>\n",
       "      <th>floors</th>\n",
       "      <th>waterfront</th>\n",
       "      <th>view</th>\n",
       "      <th>condition</th>\n",
       "      <th>grade</th>\n",
       "      <th>sqft_above</th>\n",
       "      <th>sqft_basement</th>\n",
       "      <th>yr_built</th>\n",
       "      <th>yr_renovated</th>\n",
       "      <th>zipcode</th>\n",
       "      <th>lat</th>\n",
       "      <th>long</th>\n",
       "      <th>sqft_living15</th>\n",
       "      <th>sqft_lot15</th>\n",
       "    </tr>\n",
       "  </thead>\n",
       "  <tbody>\n",
       "    <tr>\n",
       "      <th>14084</th>\n",
       "      <td>3</td>\n",
       "      <td>2.00</td>\n",
       "      <td>1510</td>\n",
       "      <td>43560</td>\n",
       "      <td>1.0</td>\n",
       "      <td>0</td>\n",
       "      <td>0</td>\n",
       "      <td>3</td>\n",
       "      <td>7</td>\n",
       "      <td>1510</td>\n",
       "      <td>0</td>\n",
       "      <td>1954</td>\n",
       "      <td>0</td>\n",
       "      <td>98077</td>\n",
       "      <td>47.7218</td>\n",
       "      <td>-122.079</td>\n",
       "      <td>2060</td>\n",
       "      <td>67756</td>\n",
       "    </tr>\n",
       "    <tr>\n",
       "      <th>13750</th>\n",
       "      <td>3</td>\n",
       "      <td>2.50</td>\n",
       "      <td>1970</td>\n",
       "      <td>106722</td>\n",
       "      <td>1.0</td>\n",
       "      <td>0</td>\n",
       "      <td>4</td>\n",
       "      <td>3</td>\n",
       "      <td>9</td>\n",
       "      <td>1970</td>\n",
       "      <td>0</td>\n",
       "      <td>1985</td>\n",
       "      <td>0</td>\n",
       "      <td>98022</td>\n",
       "      <td>47.2498</td>\n",
       "      <td>-122.003</td>\n",
       "      <td>2910</td>\n",
       "      <td>101494</td>\n",
       "    </tr>\n",
       "    <tr>\n",
       "      <th>619</th>\n",
       "      <td>3</td>\n",
       "      <td>2.00</td>\n",
       "      <td>1440</td>\n",
       "      <td>7210</td>\n",
       "      <td>1.0</td>\n",
       "      <td>0</td>\n",
       "      <td>0</td>\n",
       "      <td>3</td>\n",
       "      <td>8</td>\n",
       "      <td>1440</td>\n",
       "      <td>0</td>\n",
       "      <td>1983</td>\n",
       "      <td>0</td>\n",
       "      <td>98092</td>\n",
       "      <td>47.3128</td>\n",
       "      <td>-122.184</td>\n",
       "      <td>1700</td>\n",
       "      <td>7245</td>\n",
       "    </tr>\n",
       "    <tr>\n",
       "      <th>18985</th>\n",
       "      <td>3</td>\n",
       "      <td>1.00</td>\n",
       "      <td>1000</td>\n",
       "      <td>5100</td>\n",
       "      <td>1.0</td>\n",
       "      <td>0</td>\n",
       "      <td>0</td>\n",
       "      <td>3</td>\n",
       "      <td>7</td>\n",
       "      <td>860</td>\n",
       "      <td>140</td>\n",
       "      <td>1946</td>\n",
       "      <td>0</td>\n",
       "      <td>98115</td>\n",
       "      <td>47.6857</td>\n",
       "      <td>-122.293</td>\n",
       "      <td>1000</td>\n",
       "      <td>5100</td>\n",
       "    </tr>\n",
       "    <tr>\n",
       "      <th>21382</th>\n",
       "      <td>4</td>\n",
       "      <td>2.75</td>\n",
       "      <td>2620</td>\n",
       "      <td>7001</td>\n",
       "      <td>2.0</td>\n",
       "      <td>0</td>\n",
       "      <td>0</td>\n",
       "      <td>3</td>\n",
       "      <td>8</td>\n",
       "      <td>2620</td>\n",
       "      <td>0</td>\n",
       "      <td>2012</td>\n",
       "      <td>0</td>\n",
       "      <td>98045</td>\n",
       "      <td>47.4838</td>\n",
       "      <td>-121.769</td>\n",
       "      <td>2620</td>\n",
       "      <td>6543</td>\n",
       "    </tr>\n",
       "  </tbody>\n",
       "</table>\n",
       "</div>"
      ],
      "text/plain": [
       "       bedrooms  bathrooms  sqft_living  sqft_lot  floors  waterfront  view  \\\n",
       "14084         3       2.00         1510     43560     1.0           0     0   \n",
       "13750         3       2.50         1970    106722     1.0           0     4   \n",
       "619           3       2.00         1440      7210     1.0           0     0   \n",
       "18985         3       1.00         1000      5100     1.0           0     0   \n",
       "21382         4       2.75         2620      7001     2.0           0     0   \n",
       "\n",
       "       condition  grade  sqft_above  sqft_basement  yr_built  yr_renovated  \\\n",
       "14084          3      7        1510              0      1954             0   \n",
       "13750          3      9        1970              0      1985             0   \n",
       "619            3      8        1440              0      1983             0   \n",
       "18985          3      7         860            140      1946             0   \n",
       "21382          3      8        2620              0      2012             0   \n",
       "\n",
       "       zipcode      lat     long  sqft_living15  sqft_lot15  \n",
       "14084    98077  47.7218 -122.079           2060       67756  \n",
       "13750    98022  47.2498 -122.003           2910      101494  \n",
       "619      98092  47.3128 -122.184           1700        7245  \n",
       "18985    98115  47.6857 -122.293           1000        5100  \n",
       "21382    98045  47.4838 -121.769           2620        6543  "
      ]
     },
     "execution_count": 29,
     "metadata": {},
     "output_type": "execute_result"
    }
   ],
   "source": [
    "X_train.head()"
   ]
  },
  {
   "cell_type": "code",
   "execution_count": 30,
   "metadata": {},
   "outputs": [],
   "source": [
    "### Machine Learning Modelling"
   ]
  },
  {
   "cell_type": "code",
   "execution_count": 31,
   "metadata": {},
   "outputs": [],
   "source": [
    "from sklearn.linear_model import LinearRegression"
   ]
  },
  {
   "cell_type": "code",
   "execution_count": 32,
   "metadata": {},
   "outputs": [],
   "source": [
    "model = LinearRegression()"
   ]
  },
  {
   "cell_type": "code",
   "execution_count": 33,
   "metadata": {},
   "outputs": [
    {
     "data": {
      "text/plain": [
       "LinearRegression()"
      ]
     },
     "execution_count": 33,
     "metadata": {},
     "output_type": "execute_result"
    }
   ],
   "source": [
    "model.fit(X_train,y_train)"
   ]
  },
  {
   "cell_type": "code",
   "execution_count": 34,
   "metadata": {},
   "outputs": [],
   "source": [
    "pred = model.predict(X_test)"
   ]
  },
  {
   "cell_type": "code",
   "execution_count": 35,
   "metadata": {},
   "outputs": [],
   "source": [
    "from sklearn.metrics import mean_absolute_error, mean_squared_error, r2_score"
   ]
  },
  {
   "cell_type": "code",
   "execution_count": 36,
   "metadata": {},
   "outputs": [],
   "source": [
    "MAE = mean_absolute_error(y_test,pred)"
   ]
  },
  {
   "cell_type": "code",
   "execution_count": 37,
   "metadata": {},
   "outputs": [],
   "source": [
    "\n",
    "MSE = mean_squared_error(y_test,pred)"
   ]
  },
  {
   "cell_type": "code",
   "execution_count": 38,
   "metadata": {},
   "outputs": [],
   "source": [
    "RMSE = np.sqrt(MSE)"
   ]
  },
  {
   "cell_type": "code",
   "execution_count": 39,
   "metadata": {},
   "outputs": [],
   "source": [
    "R2 = r2_score(y_test,pred)"
   ]
  },
  {
   "cell_type": "code",
   "execution_count": 40,
   "metadata": {},
   "outputs": [
    {
     "name": "stdout",
     "output_type": "stream",
     "text": [
      "Hasil Evaluation Matrix: \n",
      "MAE : 123368.26850175345\n",
      "MSE : 37517361292.794174\n",
      "RMSE : 193693.98878848608\n",
      "R2 : 0.7077188146880506\n"
     ]
    }
   ],
   "source": [
    "print('Hasil Evaluation Matrix: ')\n",
    "print('MAE :', MAE)\n",
    "print('MSE :', MSE)\n",
    "print('RMSE :', RMSE)\n",
    "print('R2 :', R2)"
   ]
  },
  {
   "cell_type": "code",
   "execution_count": 41,
   "metadata": {},
   "outputs": [
    {
     "data": {
      "text/plain": [
       "0.2550226901020861"
      ]
     },
     "execution_count": 41,
     "metadata": {},
     "output_type": "execute_result"
    }
   ],
   "source": [
    "137647 / (y_test.mean())"
   ]
  },
  {
   "cell_type": "markdown",
   "metadata": {},
   "source": [
    "### Polynomial Feature"
   ]
  },
  {
   "cell_type": "code",
   "execution_count": 42,
   "metadata": {},
   "outputs": [],
   "source": [
    "from sklearn.preprocessing import PolynomialFeatures"
   ]
  },
  {
   "cell_type": "code",
   "execution_count": 43,
   "metadata": {},
   "outputs": [],
   "source": [
    "poli = PolynomialFeatures(degree=2,include_bias=False, interaction_only=True)"
   ]
  },
  {
   "cell_type": "code",
   "execution_count": 44,
   "metadata": {},
   "outputs": [],
   "source": [
    "X_poli = poli.fit_transform(X)"
   ]
  },
  {
   "cell_type": "code",
   "execution_count": 45,
   "metadata": {},
   "outputs": [
    {
     "data": {
      "text/plain": [
       "(21613, 171)"
      ]
     },
     "execution_count": 45,
     "metadata": {},
     "output_type": "execute_result"
    }
   ],
   "source": [
    "X_poli.shape"
   ]
  },
  {
   "cell_type": "code",
   "execution_count": 46,
   "metadata": {},
   "outputs": [
    {
     "data": {
      "text/plain": [
       "array([ 3.00000000e+00,  1.00000000e+00,  1.18000000e+03,  5.65000000e+03,\n",
       "        1.00000000e+00,  0.00000000e+00,  0.00000000e+00,  3.00000000e+00,\n",
       "        7.00000000e+00,  1.18000000e+03,  0.00000000e+00,  1.95500000e+03,\n",
       "        0.00000000e+00,  9.81780000e+04,  4.75112000e+01, -1.22257000e+02,\n",
       "        1.34000000e+03,  5.65000000e+03,  3.00000000e+00,  3.54000000e+03,\n",
       "        1.69500000e+04,  3.00000000e+00,  0.00000000e+00,  0.00000000e+00,\n",
       "        9.00000000e+00,  2.10000000e+01,  3.54000000e+03,  0.00000000e+00,\n",
       "        5.86500000e+03,  0.00000000e+00,  2.94534000e+05,  1.42533600e+02,\n",
       "       -3.66771000e+02,  4.02000000e+03,  1.69500000e+04,  1.18000000e+03,\n",
       "        5.65000000e+03,  1.00000000e+00,  0.00000000e+00,  0.00000000e+00,\n",
       "        3.00000000e+00,  7.00000000e+00,  1.18000000e+03,  0.00000000e+00,\n",
       "        1.95500000e+03,  0.00000000e+00,  9.81780000e+04,  4.75112000e+01,\n",
       "       -1.22257000e+02,  1.34000000e+03,  5.65000000e+03,  6.66700000e+06,\n",
       "        1.18000000e+03,  0.00000000e+00,  0.00000000e+00,  3.54000000e+03,\n",
       "        8.26000000e+03,  1.39240000e+06,  0.00000000e+00,  2.30690000e+06,\n",
       "        0.00000000e+00,  1.15850040e+08,  5.60632160e+04, -1.44263260e+05,\n",
       "        1.58120000e+06,  6.66700000e+06,  5.65000000e+03,  0.00000000e+00,\n",
       "        0.00000000e+00,  1.69500000e+04,  3.95500000e+04,  6.66700000e+06,\n",
       "        0.00000000e+00,  1.10457500e+07,  0.00000000e+00,  5.54705700e+08,\n",
       "        2.68438280e+05, -6.90752050e+05,  7.57100000e+06,  3.19225000e+07,\n",
       "        0.00000000e+00,  0.00000000e+00,  3.00000000e+00,  7.00000000e+00,\n",
       "        1.18000000e+03,  0.00000000e+00,  1.95500000e+03,  0.00000000e+00,\n",
       "        9.81780000e+04,  4.75112000e+01, -1.22257000e+02,  1.34000000e+03,\n",
       "        5.65000000e+03,  0.00000000e+00,  0.00000000e+00,  0.00000000e+00,\n",
       "        0.00000000e+00,  0.00000000e+00,  0.00000000e+00,  0.00000000e+00,\n",
       "        0.00000000e+00,  0.00000000e+00, -0.00000000e+00,  0.00000000e+00,\n",
       "        0.00000000e+00,  0.00000000e+00,  0.00000000e+00,  0.00000000e+00,\n",
       "        0.00000000e+00,  0.00000000e+00,  0.00000000e+00,  0.00000000e+00,\n",
       "        0.00000000e+00, -0.00000000e+00,  0.00000000e+00,  0.00000000e+00,\n",
       "        2.10000000e+01,  3.54000000e+03,  0.00000000e+00,  5.86500000e+03,\n",
       "        0.00000000e+00,  2.94534000e+05,  1.42533600e+02, -3.66771000e+02,\n",
       "        4.02000000e+03,  1.69500000e+04,  8.26000000e+03,  0.00000000e+00,\n",
       "        1.36850000e+04,  0.00000000e+00,  6.87246000e+05,  3.32578400e+02,\n",
       "       -8.55799000e+02,  9.38000000e+03,  3.95500000e+04,  0.00000000e+00,\n",
       "        2.30690000e+06,  0.00000000e+00,  1.15850040e+08,  5.60632160e+04,\n",
       "       -1.44263260e+05,  1.58120000e+06,  6.66700000e+06,  0.00000000e+00,\n",
       "        0.00000000e+00,  0.00000000e+00,  0.00000000e+00, -0.00000000e+00,\n",
       "        0.00000000e+00,  0.00000000e+00,  0.00000000e+00,  1.91937990e+08,\n",
       "        9.28843960e+04, -2.39012435e+05,  2.61970000e+06,  1.10457500e+07,\n",
       "        0.00000000e+00,  0.00000000e+00, -0.00000000e+00,  0.00000000e+00,\n",
       "        0.00000000e+00,  4.66455459e+06, -1.20029477e+07,  1.31558520e+08,\n",
       "        5.54705700e+08, -5.80857678e+03,  6.36650080e+04,  2.68438280e+05,\n",
       "       -1.63824380e+05, -6.90752050e+05,  7.57100000e+06])"
      ]
     },
     "execution_count": 46,
     "metadata": {},
     "output_type": "execute_result"
    }
   ],
   "source": [
    "X_poli[0]"
   ]
  },
  {
   "cell_type": "code",
   "execution_count": 48,
   "metadata": {},
   "outputs": [],
   "source": [
    "df1=pd.DataFrame(data=X_poli,columns=np.arange(171))"
   ]
  },
  {
   "cell_type": "code",
   "execution_count": 49,
   "metadata": {},
   "outputs": [],
   "source": [
    "df_All = pd.concat([df,df1],axis=1)"
   ]
  },
  {
   "cell_type": "code",
   "execution_count": 50,
   "metadata": {},
   "outputs": [
    {
     "data": {
      "text/html": [
       "<div>\n",
       "<style scoped>\n",
       "    .dataframe tbody tr th:only-of-type {\n",
       "        vertical-align: middle;\n",
       "    }\n",
       "\n",
       "    .dataframe tbody tr th {\n",
       "        vertical-align: top;\n",
       "    }\n",
       "\n",
       "    .dataframe thead th {\n",
       "        text-align: right;\n",
       "    }\n",
       "</style>\n",
       "<table border=\"1\" class=\"dataframe\">\n",
       "  <thead>\n",
       "    <tr style=\"text-align: right;\">\n",
       "      <th></th>\n",
       "      <th>price</th>\n",
       "      <th>bedrooms</th>\n",
       "      <th>bathrooms</th>\n",
       "      <th>sqft_living</th>\n",
       "      <th>sqft_lot</th>\n",
       "      <th>floors</th>\n",
       "      <th>waterfront</th>\n",
       "      <th>view</th>\n",
       "      <th>condition</th>\n",
       "      <th>grade</th>\n",
       "      <th>...</th>\n",
       "      <th>161</th>\n",
       "      <th>162</th>\n",
       "      <th>163</th>\n",
       "      <th>164</th>\n",
       "      <th>165</th>\n",
       "      <th>166</th>\n",
       "      <th>167</th>\n",
       "      <th>168</th>\n",
       "      <th>169</th>\n",
       "      <th>170</th>\n",
       "    </tr>\n",
       "  </thead>\n",
       "  <tbody>\n",
       "    <tr>\n",
       "      <th>0</th>\n",
       "      <td>221900.0</td>\n",
       "      <td>3</td>\n",
       "      <td>1.00</td>\n",
       "      <td>1180</td>\n",
       "      <td>5650</td>\n",
       "      <td>1.0</td>\n",
       "      <td>0</td>\n",
       "      <td>0</td>\n",
       "      <td>3</td>\n",
       "      <td>7</td>\n",
       "      <td>...</td>\n",
       "      <td>4.664555e+06</td>\n",
       "      <td>-1.200295e+07</td>\n",
       "      <td>131558520.0</td>\n",
       "      <td>554705700.0</td>\n",
       "      <td>-5808.576778</td>\n",
       "      <td>63665.008</td>\n",
       "      <td>268438.2800</td>\n",
       "      <td>-163824.38</td>\n",
       "      <td>-690752.050</td>\n",
       "      <td>7571000.0</td>\n",
       "    </tr>\n",
       "    <tr>\n",
       "      <th>1</th>\n",
       "      <td>538000.0</td>\n",
       "      <td>3</td>\n",
       "      <td>2.25</td>\n",
       "      <td>2570</td>\n",
       "      <td>7242</td>\n",
       "      <td>2.0</td>\n",
       "      <td>0</td>\n",
       "      <td>0</td>\n",
       "      <td>3</td>\n",
       "      <td>7</td>\n",
       "      <td>...</td>\n",
       "      <td>4.682623e+06</td>\n",
       "      <td>-1.200255e+07</td>\n",
       "      <td>165831250.0</td>\n",
       "      <td>749576875.0</td>\n",
       "      <td>-5837.184999</td>\n",
       "      <td>80648.490</td>\n",
       "      <td>364540.7190</td>\n",
       "      <td>-206719.11</td>\n",
       "      <td>-934394.841</td>\n",
       "      <td>12909910.0</td>\n",
       "    </tr>\n",
       "    <tr>\n",
       "      <th>2</th>\n",
       "      <td>180000.0</td>\n",
       "      <td>2</td>\n",
       "      <td>1.00</td>\n",
       "      <td>770</td>\n",
       "      <td>10000</td>\n",
       "      <td>1.0</td>\n",
       "      <td>0</td>\n",
       "      <td>0</td>\n",
       "      <td>3</td>\n",
       "      <td>6</td>\n",
       "      <td>...</td>\n",
       "      <td>4.679651e+06</td>\n",
       "      <td>-1.198226e+07</td>\n",
       "      <td>266636160.0</td>\n",
       "      <td>790301736.0</td>\n",
       "      <td>-5835.146731</td>\n",
       "      <td>129847.088</td>\n",
       "      <td>384862.9498</td>\n",
       "      <td>-332473.76</td>\n",
       "      <td>-985442.446</td>\n",
       "      <td>21928640.0</td>\n",
       "    </tr>\n",
       "    <tr>\n",
       "      <th>3</th>\n",
       "      <td>604000.0</td>\n",
       "      <td>4</td>\n",
       "      <td>3.00</td>\n",
       "      <td>1960</td>\n",
       "      <td>5000</td>\n",
       "      <td>1.0</td>\n",
       "      <td>0</td>\n",
       "      <td>0</td>\n",
       "      <td>5</td>\n",
       "      <td>7</td>\n",
       "      <td>...</td>\n",
       "      <td>4.663501e+06</td>\n",
       "      <td>-1.201116e+07</td>\n",
       "      <td>133464960.0</td>\n",
       "      <td>490680000.0</td>\n",
       "      <td>-5816.213274</td>\n",
       "      <td>64628.288</td>\n",
       "      <td>237604.0000</td>\n",
       "      <td>-166454.48</td>\n",
       "      <td>-611965.000</td>\n",
       "      <td>6800000.0</td>\n",
       "    </tr>\n",
       "    <tr>\n",
       "      <th>4</th>\n",
       "      <td>510000.0</td>\n",
       "      <td>3</td>\n",
       "      <td>2.00</td>\n",
       "      <td>1680</td>\n",
       "      <td>8080</td>\n",
       "      <td>1.0</td>\n",
       "      <td>0</td>\n",
       "      <td>0</td>\n",
       "      <td>3</td>\n",
       "      <td>8</td>\n",
       "      <td>...</td>\n",
       "      <td>4.669970e+06</td>\n",
       "      <td>-1.196944e+07</td>\n",
       "      <td>176533200.0</td>\n",
       "      <td>735849222.0</td>\n",
       "      <td>-5811.392356</td>\n",
       "      <td>85710.240</td>\n",
       "      <td>357268.8504</td>\n",
       "      <td>-219681.00</td>\n",
       "      <td>-915703.635</td>\n",
       "      <td>13505400.0</td>\n",
       "    </tr>\n",
       "  </tbody>\n",
       "</table>\n",
       "<p>5 rows × 190 columns</p>\n",
       "</div>"
      ],
      "text/plain": [
       "      price  bedrooms  bathrooms  sqft_living  sqft_lot  floors  waterfront  \\\n",
       "0  221900.0         3       1.00         1180      5650     1.0           0   \n",
       "1  538000.0         3       2.25         2570      7242     2.0           0   \n",
       "2  180000.0         2       1.00          770     10000     1.0           0   \n",
       "3  604000.0         4       3.00         1960      5000     1.0           0   \n",
       "4  510000.0         3       2.00         1680      8080     1.0           0   \n",
       "\n",
       "   view  condition  grade  ...           161           162          163  \\\n",
       "0     0          3      7  ...  4.664555e+06 -1.200295e+07  131558520.0   \n",
       "1     0          3      7  ...  4.682623e+06 -1.200255e+07  165831250.0   \n",
       "2     0          3      6  ...  4.679651e+06 -1.198226e+07  266636160.0   \n",
       "3     0          5      7  ...  4.663501e+06 -1.201116e+07  133464960.0   \n",
       "4     0          3      8  ...  4.669970e+06 -1.196944e+07  176533200.0   \n",
       "\n",
       "           164          165         166          167        168         169  \\\n",
       "0  554705700.0 -5808.576778   63665.008  268438.2800 -163824.38 -690752.050   \n",
       "1  749576875.0 -5837.184999   80648.490  364540.7190 -206719.11 -934394.841   \n",
       "2  790301736.0 -5835.146731  129847.088  384862.9498 -332473.76 -985442.446   \n",
       "3  490680000.0 -5816.213274   64628.288  237604.0000 -166454.48 -611965.000   \n",
       "4  735849222.0 -5811.392356   85710.240  357268.8504 -219681.00 -915703.635   \n",
       "\n",
       "          170  \n",
       "0   7571000.0  \n",
       "1  12909910.0  \n",
       "2  21928640.0  \n",
       "3   6800000.0  \n",
       "4  13505400.0  \n",
       "\n",
       "[5 rows x 190 columns]"
      ]
     },
     "execution_count": 50,
     "metadata": {},
     "output_type": "execute_result"
    }
   ],
   "source": [
    "df_All.head()"
   ]
  },
  {
   "cell_type": "code",
   "execution_count": 51,
   "metadata": {},
   "outputs": [],
   "source": [
    "X = df_All.drop(columns='price')\n",
    "y = df_All['price']\n",
    "\n",
    "X_train_poli,X_test_poli,y_train_poli,y_test_poli= train_test_split(X,y,train_size=.80,random_state=3)"
   ]
  },
  {
   "cell_type": "code",
   "execution_count": 52,
   "metadata": {},
   "outputs": [],
   "source": [
    "X = X_poli\n",
    "y = df.price"
   ]
  },
  {
   "cell_type": "code",
   "execution_count": 53,
   "metadata": {},
   "outputs": [],
   "source": [
    "model_poli =LinearRegression()"
   ]
  },
  {
   "cell_type": "code",
   "execution_count": 54,
   "metadata": {},
   "outputs": [
    {
     "data": {
      "text/plain": [
       "LinearRegression()"
      ]
     },
     "execution_count": 54,
     "metadata": {},
     "output_type": "execute_result"
    }
   ],
   "source": [
    "model_poli.fit(X_train_poli,y_train_poli)"
   ]
  },
  {
   "cell_type": "code",
   "execution_count": 55,
   "metadata": {},
   "outputs": [],
   "source": [
    "poli_test = model_poli.predict(X_test_poli)"
   ]
  },
  {
   "cell_type": "code",
   "execution_count": 56,
   "metadata": {},
   "outputs": [],
   "source": [
    "MAE_poli = mean_absolute_error(y_test_poli,poli_test)"
   ]
  },
  {
   "cell_type": "code",
   "execution_count": 57,
   "metadata": {},
   "outputs": [],
   "source": [
    "MSE_poli =mean_squared_error(y_test_poli,poli_test)"
   ]
  },
  {
   "cell_type": "code",
   "execution_count": 58,
   "metadata": {},
   "outputs": [],
   "source": [
    "RMSE_poli = np.sqrt(MSE_poli)"
   ]
  },
  {
   "cell_type": "code",
   "execution_count": 59,
   "metadata": {},
   "outputs": [],
   "source": [
    "R2_poli = r2_score(y_test_poli,poli_test)"
   ]
  },
  {
   "cell_type": "code",
   "execution_count": 60,
   "metadata": {},
   "outputs": [],
   "source": [
    "data = {\n",
    "    \"LinReg\" : [MAE,MSE,RMSE,R2],\n",
    "    \"Polynomial\" : [MAE_poli,MSE_poli,RMSE_poli,R2_poli]\n",
    "    \n",
    "}"
   ]
  },
  {
   "cell_type": "code",
   "execution_count": 61,
   "metadata": {},
   "outputs": [
    {
     "data": {
      "text/html": [
       "<div>\n",
       "<style scoped>\n",
       "    .dataframe tbody tr th:only-of-type {\n",
       "        vertical-align: middle;\n",
       "    }\n",
       "\n",
       "    .dataframe tbody tr th {\n",
       "        vertical-align: top;\n",
       "    }\n",
       "\n",
       "    .dataframe thead th {\n",
       "        text-align: right;\n",
       "    }\n",
       "</style>\n",
       "<table border=\"1\" class=\"dataframe\">\n",
       "  <thead>\n",
       "    <tr style=\"text-align: right;\">\n",
       "      <th></th>\n",
       "      <th>LinReg</th>\n",
       "      <th>Polynomial</th>\n",
       "    </tr>\n",
       "  </thead>\n",
       "  <tbody>\n",
       "    <tr>\n",
       "      <th>MAE</th>\n",
       "      <td>1.233683e+05</td>\n",
       "      <td>1.011974e+05</td>\n",
       "    </tr>\n",
       "    <tr>\n",
       "      <th>MSE</th>\n",
       "      <td>3.751736e+10</td>\n",
       "      <td>2.455409e+10</td>\n",
       "    </tr>\n",
       "    <tr>\n",
       "      <th>RMSE</th>\n",
       "      <td>1.936940e+05</td>\n",
       "      <td>1.566975e+05</td>\n",
       "    </tr>\n",
       "    <tr>\n",
       "      <th>R2</th>\n",
       "      <td>7.077188e-01</td>\n",
       "      <td>8.087099e-01</td>\n",
       "    </tr>\n",
       "  </tbody>\n",
       "</table>\n",
       "</div>"
      ],
      "text/plain": [
       "            LinReg    Polynomial\n",
       "MAE   1.233683e+05  1.011974e+05\n",
       "MSE   3.751736e+10  2.455409e+10\n",
       "RMSE  1.936940e+05  1.566975e+05\n",
       "R2    7.077188e-01  8.087099e-01"
      ]
     },
     "execution_count": 61,
     "metadata": {},
     "output_type": "execute_result"
    }
   ],
   "source": [
    "pd.DataFrame(data=data,index=['MAE','MSE','RMSE','R2'])"
   ]
  },
  {
   "cell_type": "code",
   "execution_count": 62,
   "metadata": {},
   "outputs": [
    {
     "name": "stdout",
     "output_type": "stream",
     "text": [
      "Hasil Evaluation Matrix: \n",
      "MAE : 101197.43585310924\n",
      "MSE : 24554092077.805187\n",
      "RMSE : 156697.453960826\n",
      "R2 : 0.8087099175032321\n"
     ]
    }
   ],
   "source": [
    "print('Hasil Evaluation Matrix: ')\n",
    "print('MAE :', MAE_poli)\n",
    "print('MSE :', MSE_poli)\n",
    "print('RMSE :', RMSE_poli)\n",
    "print('R2 :', R2_poli)"
   ]
  },
  {
   "cell_type": "code",
   "execution_count": 95,
   "metadata": {},
   "outputs": [
    {
     "data": {
      "text/plain": [
       "0.18679791665416942"
      ]
     },
     "execution_count": 95,
     "metadata": {},
     "output_type": "execute_result"
    }
   ],
   "source": [
    "101197/poli_test.mean() #ternyata lebih bagus menggunakan polynom"
   ]
  },
  {
   "cell_type": "code",
   "execution_count": 64,
   "metadata": {},
   "outputs": [],
   "source": [
    "### Base model XGB"
   ]
  },
  {
   "cell_type": "code",
   "execution_count": 65,
   "metadata": {},
   "outputs": [],
   "source": [
    "from xgboost import XGBRegressor, XGBClassifier\n",
    "from sklearn.svm import SVC,SVR"
   ]
  },
  {
   "cell_type": "code",
   "execution_count": 66,
   "metadata": {},
   "outputs": [],
   "source": [
    "base_XGB = XGBRegressor()"
   ]
  },
  {
   "cell_type": "code",
   "execution_count": 67,
   "metadata": {},
   "outputs": [
    {
     "data": {
      "text/plain": [
       "XGBRegressor(base_score=0.5, booster='gbtree', colsample_bylevel=1,\n",
       "             colsample_bynode=1, colsample_bytree=1, gamma=0, gpu_id=-1,\n",
       "             importance_type='gain', interaction_constraints='',\n",
       "             learning_rate=0.300000012, max_delta_step=0, max_depth=6,\n",
       "             min_child_weight=1, missing=nan, monotone_constraints='()',\n",
       "             n_estimators=100, n_jobs=0, num_parallel_tree=1, random_state=0,\n",
       "             reg_alpha=0, reg_lambda=1, scale_pos_weight=1, subsample=1,\n",
       "             tree_method='exact', validate_parameters=1, verbosity=None)"
      ]
     },
     "execution_count": 67,
     "metadata": {},
     "output_type": "execute_result"
    }
   ],
   "source": [
    "base_XGB.fit(X_train, y_train)"
   ]
  },
  {
   "cell_type": "code",
   "execution_count": 68,
   "metadata": {},
   "outputs": [],
   "source": [
    "y_base_XGB = base_XGB.predict(X_test)"
   ]
  },
  {
   "cell_type": "code",
   "execution_count": 69,
   "metadata": {},
   "outputs": [],
   "source": [
    "from sklearn.metrics import r2_score, mean_absolute_error, mean_squared_error"
   ]
  },
  {
   "cell_type": "code",
   "execution_count": 70,
   "metadata": {},
   "outputs": [
    {
     "data": {
      "text/plain": [
       "0.8908087323449047"
      ]
     },
     "execution_count": 70,
     "metadata": {},
     "output_type": "execute_result"
    }
   ],
   "source": [
    "r2_base_XGB = r2_score(y_test,y_base_XGB)\n",
    "r2_base_XGB"
   ]
  },
  {
   "cell_type": "code",
   "execution_count": 71,
   "metadata": {},
   "outputs": [
    {
     "data": {
      "text/plain": [
       "67738.7280281344"
      ]
     },
     "execution_count": 71,
     "metadata": {},
     "output_type": "execute_result"
    }
   ],
   "source": [
    "MAE_base_XGB = mean_absolute_error(y_test,y_base_XGB)\n",
    "MAE_base_XGB"
   ]
  },
  {
   "cell_type": "code",
   "execution_count": 72,
   "metadata": {},
   "outputs": [],
   "source": [
    "MSE_base_XGB = mean_squared_error(y_test,y_base_XGB)"
   ]
  },
  {
   "cell_type": "code",
   "execution_count": 73,
   "metadata": {},
   "outputs": [],
   "source": [
    "RMSE_base_XGB = np.sqrt(MSE_base_XGB)"
   ]
  },
  {
   "cell_type": "code",
   "execution_count": 96,
   "metadata": {},
   "outputs": [
    {
     "data": {
      "text/plain": [
       "0.12540116099930035"
      ]
     },
     "execution_count": 96,
     "metadata": {},
     "output_type": "execute_result"
    }
   ],
   "source": [
    "67738/y_base_XGB.mean()"
   ]
  },
  {
   "cell_type": "code",
   "execution_count": 75,
   "metadata": {},
   "outputs": [],
   "source": [
    "data = {\n",
    "    \"LinReg\" : [MAE,MSE,RMSE,R2],\n",
    "    \"Polynomial\" : [MAE_poli,MSE_poli,RMSE_poli,R2_poli],\n",
    "    \"XGB\" : [MAE_base_XGB,MSE_base_XGB,RMSE_base_XGB,r2_base_XGB]\n",
    "    \n",
    "}"
   ]
  },
  {
   "cell_type": "code",
   "execution_count": 76,
   "metadata": {},
   "outputs": [
    {
     "data": {
      "text/html": [
       "<div>\n",
       "<style scoped>\n",
       "    .dataframe tbody tr th:only-of-type {\n",
       "        vertical-align: middle;\n",
       "    }\n",
       "\n",
       "    .dataframe tbody tr th {\n",
       "        vertical-align: top;\n",
       "    }\n",
       "\n",
       "    .dataframe thead th {\n",
       "        text-align: right;\n",
       "    }\n",
       "</style>\n",
       "<table border=\"1\" class=\"dataframe\">\n",
       "  <thead>\n",
       "    <tr style=\"text-align: right;\">\n",
       "      <th></th>\n",
       "      <th>LinReg</th>\n",
       "      <th>Polynomial</th>\n",
       "      <th>XGB</th>\n",
       "    </tr>\n",
       "  </thead>\n",
       "  <tbody>\n",
       "    <tr>\n",
       "      <th>MAE</th>\n",
       "      <td>1.233683e+05</td>\n",
       "      <td>1.011974e+05</td>\n",
       "      <td>6.773873e+04</td>\n",
       "    </tr>\n",
       "    <tr>\n",
       "      <th>MSE</th>\n",
       "      <td>3.751736e+10</td>\n",
       "      <td>2.455409e+10</td>\n",
       "      <td>1.401585e+10</td>\n",
       "    </tr>\n",
       "    <tr>\n",
       "      <th>RMSE</th>\n",
       "      <td>1.936940e+05</td>\n",
       "      <td>1.566975e+05</td>\n",
       "      <td>1.183885e+05</td>\n",
       "    </tr>\n",
       "    <tr>\n",
       "      <th>R2</th>\n",
       "      <td>7.077188e-01</td>\n",
       "      <td>8.087099e-01</td>\n",
       "      <td>8.908087e-01</td>\n",
       "    </tr>\n",
       "  </tbody>\n",
       "</table>\n",
       "</div>"
      ],
      "text/plain": [
       "            LinReg    Polynomial           XGB\n",
       "MAE   1.233683e+05  1.011974e+05  6.773873e+04\n",
       "MSE   3.751736e+10  2.455409e+10  1.401585e+10\n",
       "RMSE  1.936940e+05  1.566975e+05  1.183885e+05\n",
       "R2    7.077188e-01  8.087099e-01  8.908087e-01"
      ]
     },
     "execution_count": 76,
     "metadata": {},
     "output_type": "execute_result"
    }
   ],
   "source": [
    "pd.DataFrame(data=data,index=['MAE','MSE','RMSE','R2'])"
   ]
  },
  {
   "cell_type": "markdown",
   "metadata": {},
   "source": [
    "dari 3 model base, kita bisa pastikan bahwa XGB mempunyai angka r2 terbaik"
   ]
  },
  {
   "cell_type": "code",
   "execution_count": 77,
   "metadata": {},
   "outputs": [],
   "source": [
    "XGB_model = XGBRegressor()"
   ]
  },
  {
   "cell_type": "code",
   "execution_count": 78,
   "metadata": {},
   "outputs": [],
   "source": [
    "param_XGB = {'max_depth':[3,5,7,9],'learning_rate':[0.1,0.2,0.5,1],'n_estimators':[100,200,300],'gamma':[0,3,5]}"
   ]
  },
  {
   "cell_type": "code",
   "execution_count": 79,
   "metadata": {},
   "outputs": [],
   "source": [
    "from sklearn.model_selection import GridSearchCV"
   ]
  },
  {
   "cell_type": "code",
   "execution_count": 80,
   "metadata": {},
   "outputs": [],
   "source": [
    "model_tuned = GridSearchCV(estimator=XGB_model,param_grid=param_XGB,cv=3,n_jobs=-1,verbose=1,scoring='r2')"
   ]
  },
  {
   "cell_type": "code",
   "execution_count": 81,
   "metadata": {},
   "outputs": [
    {
     "name": "stdout",
     "output_type": "stream",
     "text": [
      "Fitting 3 folds for each of 144 candidates, totalling 432 fits\n"
     ]
    },
    {
     "name": "stderr",
     "output_type": "stream",
     "text": [
      "[Parallel(n_jobs=-1)]: Using backend LokyBackend with 8 concurrent workers.\n",
      "[Parallel(n_jobs=-1)]: Done  34 tasks      | elapsed:   33.6s\n",
      "[Parallel(n_jobs=-1)]: Done 184 tasks      | elapsed:  4.5min\n",
      "[Parallel(n_jobs=-1)]: Done 432 out of 432 | elapsed: 11.8min finished\n"
     ]
    },
    {
     "data": {
      "text/plain": [
       "GridSearchCV(cv=3,\n",
       "             estimator=XGBRegressor(base_score=None, booster=None,\n",
       "                                    colsample_bylevel=None,\n",
       "                                    colsample_bynode=None,\n",
       "                                    colsample_bytree=None, gamma=None,\n",
       "                                    gpu_id=None, importance_type='gain',\n",
       "                                    interaction_constraints=None,\n",
       "                                    learning_rate=None, max_delta_step=None,\n",
       "                                    max_depth=None, min_child_weight=None,\n",
       "                                    missing=nan, monotone_constraints=None,\n",
       "                                    n_estimators=100, n_jobs=None,\n",
       "                                    num_parallel_tree=None, random_state=None,\n",
       "                                    reg_alpha=None, reg_lambda=None,\n",
       "                                    scale_pos_weight=None, subsample=None,\n",
       "                                    tree_method=None, validate_parameters=None,\n",
       "                                    verbosity=None),\n",
       "             n_jobs=-1,\n",
       "             param_grid={'gamma': [0, 3, 5],\n",
       "                         'learning_rate': [0.1, 0.2, 0.5, 1],\n",
       "                         'max_depth': [3, 5, 7, 9],\n",
       "                         'n_estimators': [100, 200, 300]},\n",
       "             scoring='r2', verbose=1)"
      ]
     },
     "execution_count": 81,
     "metadata": {},
     "output_type": "execute_result"
    }
   ],
   "source": [
    "model_tuned.fit(X_train,y_train)"
   ]
  },
  {
   "cell_type": "code",
   "execution_count": 82,
   "metadata": {},
   "outputs": [],
   "source": [
    "model_tuned_1 = model_tuned.best_estimator_"
   ]
  },
  {
   "cell_type": "code",
   "execution_count": 83,
   "metadata": {},
   "outputs": [],
   "source": [
    "y_tuned_1 = model_tuned.predict(X_test)"
   ]
  },
  {
   "cell_type": "code",
   "execution_count": 84,
   "metadata": {},
   "outputs": [
    {
     "data": {
      "text/plain": [
       "0.9019312351366205"
      ]
     },
     "execution_count": 84,
     "metadata": {},
     "output_type": "execute_result"
    }
   ],
   "source": [
    "r2_tuned_XGB = r2_score(y_test,y_tuned_1)\n",
    "r2_tuned_XGB"
   ]
  },
  {
   "cell_type": "code",
   "execution_count": 85,
   "metadata": {},
   "outputs": [
    {
     "data": {
      "text/plain": [
       "65179.26239915857"
      ]
     },
     "execution_count": 85,
     "metadata": {},
     "output_type": "execute_result"
    }
   ],
   "source": [
    "MAE_tuned_XGB = mean_absolute_error(y_test,y_tuned_1)\n",
    "MAE_tuned_XGB"
   ]
  },
  {
   "cell_type": "code",
   "execution_count": 86,
   "metadata": {},
   "outputs": [],
   "source": [
    "MSE_tuned_XGB = mean_squared_error(y_test,y_tuned_1)"
   ]
  },
  {
   "cell_type": "code",
   "execution_count": 87,
   "metadata": {},
   "outputs": [],
   "source": [
    "RMSE_tuned_XGB = np.sqrt(MSE_tuned_XGB)"
   ]
  },
  {
   "cell_type": "code",
   "execution_count": 88,
   "metadata": {},
   "outputs": [
    {
     "data": {
      "text/plain": [
       "0.21281275420109286"
      ]
     },
     "execution_count": 88,
     "metadata": {},
     "output_type": "execute_result"
    }
   ],
   "source": [
    "114851/y_tuned_1.mean()"
   ]
  },
  {
   "cell_type": "code",
   "execution_count": 89,
   "metadata": {},
   "outputs": [],
   "source": [
    "data = {\n",
    "    \"LinReg\" : [MAE,MSE,RMSE,R2],\n",
    "    \"Polynomial\" : [MAE_poli,MSE_poli,RMSE_poli,R2_poli],\n",
    "    \"XGB\" : [MAE_base_XGB,MSE_base_XGB,RMSE_base_XGB,r2_base_XGB],\n",
    "    \"XGB Tune \" :[MAE_tuned_XGB,MSE_tuned_XGB,RMSE_tuned_XGB,r2_tuned_XGB]\n",
    "}"
   ]
  },
  {
   "cell_type": "code",
   "execution_count": 90,
   "metadata": {},
   "outputs": [
    {
     "data": {
      "text/html": [
       "<div>\n",
       "<style scoped>\n",
       "    .dataframe tbody tr th:only-of-type {\n",
       "        vertical-align: middle;\n",
       "    }\n",
       "\n",
       "    .dataframe tbody tr th {\n",
       "        vertical-align: top;\n",
       "    }\n",
       "\n",
       "    .dataframe thead th {\n",
       "        text-align: right;\n",
       "    }\n",
       "</style>\n",
       "<table border=\"1\" class=\"dataframe\">\n",
       "  <thead>\n",
       "    <tr style=\"text-align: right;\">\n",
       "      <th></th>\n",
       "      <th>LinReg</th>\n",
       "      <th>Polynomial</th>\n",
       "      <th>XGB</th>\n",
       "      <th>XGB Tune</th>\n",
       "    </tr>\n",
       "  </thead>\n",
       "  <tbody>\n",
       "    <tr>\n",
       "      <th>MAE</th>\n",
       "      <td>1.233683e+05</td>\n",
       "      <td>1.011974e+05</td>\n",
       "      <td>6.773873e+04</td>\n",
       "      <td>6.517926e+04</td>\n",
       "    </tr>\n",
       "    <tr>\n",
       "      <th>MSE</th>\n",
       "      <td>3.751736e+10</td>\n",
       "      <td>2.455409e+10</td>\n",
       "      <td>1.401585e+10</td>\n",
       "      <td>1.258816e+10</td>\n",
       "    </tr>\n",
       "    <tr>\n",
       "      <th>RMSE</th>\n",
       "      <td>1.936940e+05</td>\n",
       "      <td>1.566975e+05</td>\n",
       "      <td>1.183885e+05</td>\n",
       "      <td>1.121970e+05</td>\n",
       "    </tr>\n",
       "    <tr>\n",
       "      <th>R2</th>\n",
       "      <td>7.077188e-01</td>\n",
       "      <td>8.087099e-01</td>\n",
       "      <td>8.908087e-01</td>\n",
       "      <td>9.019312e-01</td>\n",
       "    </tr>\n",
       "  </tbody>\n",
       "</table>\n",
       "</div>"
      ],
      "text/plain": [
       "            LinReg    Polynomial           XGB     XGB Tune \n",
       "MAE   1.233683e+05  1.011974e+05  6.773873e+04  6.517926e+04\n",
       "MSE   3.751736e+10  2.455409e+10  1.401585e+10  1.258816e+10\n",
       "RMSE  1.936940e+05  1.566975e+05  1.183885e+05  1.121970e+05\n",
       "R2    7.077188e-01  8.087099e-01  8.908087e-01  9.019312e-01"
      ]
     },
     "execution_count": 90,
     "metadata": {},
     "output_type": "execute_result"
    }
   ],
   "source": [
    "pd.DataFrame(data=data,index=['MAE','MSE','RMSE','R2'])"
   ]
  },
  {
   "cell_type": "code",
   "execution_count": 91,
   "metadata": {},
   "outputs": [],
   "source": [
    "### Train Data XGB Tune"
   ]
  },
  {
   "cell_type": "code",
   "execution_count": 92,
   "metadata": {},
   "outputs": [],
   "source": [
    "pred_train = model_tuned.predict(X_train) #data prediksi model(Training)"
   ]
  },
  {
   "cell_type": "code",
   "execution_count": 93,
   "metadata": {},
   "outputs": [
    {
     "data": {
      "text/plain": [
       "0.9661713188134905"
      ]
     },
     "execution_count": 93,
     "metadata": {},
     "output_type": "execute_result"
    }
   ],
   "source": [
    "r2_tuned_train_XGB = r2_score(y_train,pred_train)\n",
    "r2_tuned_train_XGB"
   ]
  },
  {
   "cell_type": "markdown",
   "metadata": {},
   "source": [
    "Dari sini bisa dilihat karna perbandingan nya 6%, data bisa disebut FIT karna 96% training, 90% Testing. "
   ]
  },
  {
   "cell_type": "code",
   "execution_count": 94,
   "metadata": {},
   "outputs": [
    {
     "data": {
      "text/plain": [
       "47196.82431137941"
      ]
     },
     "execution_count": 94,
     "metadata": {},
     "output_type": "execute_result"
    }
   ],
   "source": [
    "MAE_train_XGB = mean_absolute_error(y_train,pred_train)\n",
    "MAE_train_XGB"
   ]
  },
  {
   "cell_type": "code",
   "execution_count": null,
   "metadata": {},
   "outputs": [],
   "source": []
  },
  {
   "cell_type": "code",
   "execution_count": null,
   "metadata": {},
   "outputs": [],
   "source": []
  }
 ],
 "metadata": {
  "kernelspec": {
   "display_name": "Python 3",
   "language": "python",
   "name": "python3"
  },
  "language_info": {
   "codemirror_mode": {
    "name": "ipython",
    "version": 3
   },
   "file_extension": ".py",
   "mimetype": "text/x-python",
   "name": "python",
   "nbconvert_exporter": "python",
   "pygments_lexer": "ipython3",
   "version": "3.8.3"
  }
 },
 "nbformat": 4,
 "nbformat_minor": 4
}
